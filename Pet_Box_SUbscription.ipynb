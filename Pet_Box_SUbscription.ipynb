{
  "nbformat": 4,
  "nbformat_minor": 0,
  "metadata": {
    "colab": {
      "provenance": [],
      "mount_file_id": "10kX_IwQwyfJ0zW-FHdFkuQ2n1KtW8-Aw",
      "authorship_tag": "ABX9TyP2bgjlRB+k0Hb/7uTmaQ+K"
    },
    "kernelspec": {
      "name": "python3",
      "display_name": "Python 3"
    },
    "language_info": {
      "name": "python"
    }
  },
  "cells": [
    {
      "cell_type": "markdown",
      "source": [
        "###Practical Assessment"
      ],
      "metadata": {
        "id": "QaOnCExpETO1"
      }
    },
    {
      "cell_type": "markdown",
      "source": [
        "###Background\n",
        "\n",
        "PetMind is a retailer of products for pets. They are based in the United States.\n",
        "PetMind sells products that are a mix of luxury items and everyday items. Luxury items include\n",
        "toys. Everyday items include food.\n",
        "The company wants to increase sales by selling more everyday products repeatedly.\n",
        "They have been testing this approach for the last year.\n",
        "They now want a report on how repeat purchases impact sales.\n",
        "\n",
        "\n",
        "\n",
        "![Table.png](/content/drive/MyDrive/DataCamp/Table.png)\n",
        "\n",
        "###Tasks\n",
        "\n",
        "1. For every column in the data:\n",
        "\n",
        "  a. State whether the values match the description given in the table above.\n",
        "\n",
        "  b. State the number of missing values in the column.\n",
        "\n",
        "  c. Describe what you did to make values match the description if they did not\n",
        "match.\n",
        "2. Create a visualization that shows how many products are repeat purchases. Use the visualization to:\n",
        "\n",
        "  a. State which category of the variable repeat purchases has the most\n",
        "observations\n",
        "\n",
        "  b. Explain whether the observations are balanced across categories of the\n",
        "variable repeat purchases\n",
        "3. Describe the distribution of all of the sales. Your answer must include a visualization that shows the distribution.\n",
        "4. Describe the relationship between repeat purchases and sales. Your answer must include a visualization to demonstrate the relationship\n"
      ],
      "metadata": {
        "id": "EUAAOd1RElWu"
      }
    },
    {
      "cell_type": "code",
      "source": [
        "import pandas as pd\n",
        "import numpy as np\n",
        "import seaborn as sns\n",
        "import matplotlib.pyplot as plt"
      ],
      "metadata": {
        "id": "eR7uAVcrq40a"
      },
      "execution_count": 1,
      "outputs": []
    },
    {
      "cell_type": "code",
      "execution_count": 2,
      "metadata": {
        "id": "Gt_oeXfjyPo2",
        "colab": {
          "base_uri": "https://localhost:8080/",
          "height": 144
        },
        "outputId": "7012010b-2318-4ef2-bd21-cb8b59d548a2"
      },
      "outputs": [
        {
          "output_type": "execute_result",
          "data": {
            "text/plain": [
              "   product_id category animal    size  price    sales  rating  repeat_purchase\n",
              "0           1     Food   Bird   large   51.1  1860.62     7.0                1\n",
              "1           2  Housing   Bird  MEDIUM  35.98   963.60     6.0                0\n",
              "2           3     Food    Dog  medium  31.23   898.30     5.0                1"
            ],
            "text/html": [
              "\n",
              "  <div id=\"df-339f4b1c-a4b6-4653-a74e-14c97829a6b2\">\n",
              "    <div class=\"colab-df-container\">\n",
              "      <div>\n",
              "<style scoped>\n",
              "    .dataframe tbody tr th:only-of-type {\n",
              "        vertical-align: middle;\n",
              "    }\n",
              "\n",
              "    .dataframe tbody tr th {\n",
              "        vertical-align: top;\n",
              "    }\n",
              "\n",
              "    .dataframe thead th {\n",
              "        text-align: right;\n",
              "    }\n",
              "</style>\n",
              "<table border=\"1\" class=\"dataframe\">\n",
              "  <thead>\n",
              "    <tr style=\"text-align: right;\">\n",
              "      <th></th>\n",
              "      <th>product_id</th>\n",
              "      <th>category</th>\n",
              "      <th>animal</th>\n",
              "      <th>size</th>\n",
              "      <th>price</th>\n",
              "      <th>sales</th>\n",
              "      <th>rating</th>\n",
              "      <th>repeat_purchase</th>\n",
              "    </tr>\n",
              "  </thead>\n",
              "  <tbody>\n",
              "    <tr>\n",
              "      <th>0</th>\n",
              "      <td>1</td>\n",
              "      <td>Food</td>\n",
              "      <td>Bird</td>\n",
              "      <td>large</td>\n",
              "      <td>51.1</td>\n",
              "      <td>1860.62</td>\n",
              "      <td>7.0</td>\n",
              "      <td>1</td>\n",
              "    </tr>\n",
              "    <tr>\n",
              "      <th>1</th>\n",
              "      <td>2</td>\n",
              "      <td>Housing</td>\n",
              "      <td>Bird</td>\n",
              "      <td>MEDIUM</td>\n",
              "      <td>35.98</td>\n",
              "      <td>963.60</td>\n",
              "      <td>6.0</td>\n",
              "      <td>0</td>\n",
              "    </tr>\n",
              "    <tr>\n",
              "      <th>2</th>\n",
              "      <td>3</td>\n",
              "      <td>Food</td>\n",
              "      <td>Dog</td>\n",
              "      <td>medium</td>\n",
              "      <td>31.23</td>\n",
              "      <td>898.30</td>\n",
              "      <td>5.0</td>\n",
              "      <td>1</td>\n",
              "    </tr>\n",
              "  </tbody>\n",
              "</table>\n",
              "</div>\n",
              "      <button class=\"colab-df-convert\" onclick=\"convertToInteractive('df-339f4b1c-a4b6-4653-a74e-14c97829a6b2')\"\n",
              "              title=\"Convert this dataframe to an interactive table.\"\n",
              "              style=\"display:none;\">\n",
              "        \n",
              "  <svg xmlns=\"http://www.w3.org/2000/svg\" height=\"24px\"viewBox=\"0 0 24 24\"\n",
              "       width=\"24px\">\n",
              "    <path d=\"M0 0h24v24H0V0z\" fill=\"none\"/>\n",
              "    <path d=\"M18.56 5.44l.94 2.06.94-2.06 2.06-.94-2.06-.94-.94-2.06-.94 2.06-2.06.94zm-11 1L8.5 8.5l.94-2.06 2.06-.94-2.06-.94L8.5 2.5l-.94 2.06-2.06.94zm10 10l.94 2.06.94-2.06 2.06-.94-2.06-.94-.94-2.06-.94 2.06-2.06.94z\"/><path d=\"M17.41 7.96l-1.37-1.37c-.4-.4-.92-.59-1.43-.59-.52 0-1.04.2-1.43.59L10.3 9.45l-7.72 7.72c-.78.78-.78 2.05 0 2.83L4 21.41c.39.39.9.59 1.41.59.51 0 1.02-.2 1.41-.59l7.78-7.78 2.81-2.81c.8-.78.8-2.07 0-2.86zM5.41 20L4 18.59l7.72-7.72 1.47 1.35L5.41 20z\"/>\n",
              "  </svg>\n",
              "      </button>\n",
              "      \n",
              "  <style>\n",
              "    .colab-df-container {\n",
              "      display:flex;\n",
              "      flex-wrap:wrap;\n",
              "      gap: 12px;\n",
              "    }\n",
              "\n",
              "    .colab-df-convert {\n",
              "      background-color: #E8F0FE;\n",
              "      border: none;\n",
              "      border-radius: 50%;\n",
              "      cursor: pointer;\n",
              "      display: none;\n",
              "      fill: #1967D2;\n",
              "      height: 32px;\n",
              "      padding: 0 0 0 0;\n",
              "      width: 32px;\n",
              "    }\n",
              "\n",
              "    .colab-df-convert:hover {\n",
              "      background-color: #E2EBFA;\n",
              "      box-shadow: 0px 1px 2px rgba(60, 64, 67, 0.3), 0px 1px 3px 1px rgba(60, 64, 67, 0.15);\n",
              "      fill: #174EA6;\n",
              "    }\n",
              "\n",
              "    [theme=dark] .colab-df-convert {\n",
              "      background-color: #3B4455;\n",
              "      fill: #D2E3FC;\n",
              "    }\n",
              "\n",
              "    [theme=dark] .colab-df-convert:hover {\n",
              "      background-color: #434B5C;\n",
              "      box-shadow: 0px 1px 3px 1px rgba(0, 0, 0, 0.15);\n",
              "      filter: drop-shadow(0px 1px 2px rgba(0, 0, 0, 0.3));\n",
              "      fill: #FFFFFF;\n",
              "    }\n",
              "  </style>\n",
              "\n",
              "      <script>\n",
              "        const buttonEl =\n",
              "          document.querySelector('#df-339f4b1c-a4b6-4653-a74e-14c97829a6b2 button.colab-df-convert');\n",
              "        buttonEl.style.display =\n",
              "          google.colab.kernel.accessAllowed ? 'block' : 'none';\n",
              "\n",
              "        async function convertToInteractive(key) {\n",
              "          const element = document.querySelector('#df-339f4b1c-a4b6-4653-a74e-14c97829a6b2');\n",
              "          const dataTable =\n",
              "            await google.colab.kernel.invokeFunction('convertToInteractive',\n",
              "                                                     [key], {});\n",
              "          if (!dataTable) return;\n",
              "\n",
              "          const docLinkHtml = 'Like what you see? Visit the ' +\n",
              "            '<a target=\"_blank\" href=https://colab.research.google.com/notebooks/data_table.ipynb>data table notebook</a>'\n",
              "            + ' to learn more about interactive tables.';\n",
              "          element.innerHTML = '';\n",
              "          dataTable['output_type'] = 'display_data';\n",
              "          await google.colab.output.renderOutput(dataTable, element);\n",
              "          const docLink = document.createElement('div');\n",
              "          docLink.innerHTML = docLinkHtml;\n",
              "          element.appendChild(docLink);\n",
              "        }\n",
              "      </script>\n",
              "    </div>\n",
              "  </div>\n",
              "  "
            ]
          },
          "metadata": {},
          "execution_count": 2
        }
      ],
      "source": [
        "pet_supplies_data = pd.read_csv(\"/content/drive/MyDrive/DataCamp/pet_supplies_2212.csv\")\n",
        "pet_supplies_data.head(3)"
      ]
    },
    {
      "cell_type": "code",
      "source": [
        "#visualize all columns "
      ],
      "metadata": {
        "id": "p_bpiCj7Wc1I"
      },
      "execution_count": 3,
      "outputs": []
    },
    {
      "cell_type": "code",
      "source": [
        "#visualize individual column (based on data type .i.e. categorical or numeric) boxplot, scatterplot, histogram, bar chart"
      ],
      "metadata": {
        "id": "jA3zKBaVWr43"
      },
      "execution_count": 4,
      "outputs": []
    },
    {
      "cell_type": "markdown",
      "source": [
        "###Data Cleaning\n"
      ],
      "metadata": {
        "id": "w80fpfmqEMC4"
      }
    },
    {
      "cell_type": "code",
      "source": [
        "#initial data type\n",
        "pet_supplies_data.dtypes\n",
        "\n",
        "#N.B: Price should be float, size should be string"
      ],
      "metadata": {
        "colab": {
          "base_uri": "https://localhost:8080/"
        },
        "id": "56_lvIS-oJ8i",
        "outputId": "c4bbee6e-309a-4fdb-e201-49e2d6885fdb"
      },
      "execution_count": 5,
      "outputs": [
        {
          "output_type": "execute_result",
          "data": {
            "text/plain": [
              "product_id           int64\n",
              "category            object\n",
              "animal              object\n",
              "size                object\n",
              "price               object\n",
              "sales              float64\n",
              "rating             float64\n",
              "repeat_purchase      int64\n",
              "dtype: object"
            ]
          },
          "metadata": {},
          "execution_count": 5
        }
      ]
    },
    {
      "cell_type": "code",
      "source": [
        "#check for duplicates\n",
        "pet_supplies_data.duplicated().sum()"
      ],
      "metadata": {
        "colab": {
          "base_uri": "https://localhost:8080/"
        },
        "id": "m6cETNTJbgT7",
        "outputId": "9996a27f-8ef0-476c-fdee-8cf06d417afe"
      },
      "execution_count": 6,
      "outputs": [
        {
          "output_type": "execute_result",
          "data": {
            "text/plain": [
              "0"
            ]
          },
          "metadata": {},
          "execution_count": 6
        }
      ]
    },
    {
      "cell_type": "code",
      "source": [
        "#convert columns to the best possiblel dtypes; save in new dataframe\n",
        "pet_supplies_df = pet_supplies_data.convert_dtypes()\n",
        "pet_supplies_df.dtypes"
      ],
      "metadata": {
        "colab": {
          "base_uri": "https://localhost:8080/"
        },
        "id": "0ZtF-gWAnsJo",
        "outputId": "b2ffe61d-b45f-4ff4-9712-6148e1770726"
      },
      "execution_count": 7,
      "outputs": [
        {
          "output_type": "execute_result",
          "data": {
            "text/plain": [
              "product_id           Int64\n",
              "category            string\n",
              "animal              string\n",
              "size                string\n",
              "price               string\n",
              "sales              Float64\n",
              "rating               Int64\n",
              "repeat_purchase      Int64\n",
              "dtype: object"
            ]
          },
          "metadata": {},
          "execution_count": 7
        }
      ]
    },
    {
      "cell_type": "code",
      "source": [
        "#check nulls\n",
        "pet_supplies_df.isna().sum()"
      ],
      "metadata": {
        "colab": {
          "base_uri": "https://localhost:8080/"
        },
        "id": "JZWeXaaPEe4X",
        "outputId": "9cfcb4fd-0316-4c83-df52-6504366ded8a"
      },
      "execution_count": 8,
      "outputs": [
        {
          "output_type": "execute_result",
          "data": {
            "text/plain": [
              "product_id           0\n",
              "category             0\n",
              "animal               0\n",
              "size                 0\n",
              "price                0\n",
              "sales                0\n",
              "rating             150\n",
              "repeat_purchase      0\n",
              "dtype: int64"
            ]
          },
          "metadata": {},
          "execution_count": 8
        }
      ]
    },
    {
      "cell_type": "code",
      "source": [
        "#count unique values\n",
        "pet_supplies_df.product_id.count()"
      ],
      "metadata": {
        "colab": {
          "base_uri": "https://localhost:8080/"
        },
        "id": "GJK_vqmRPIDI",
        "outputId": "a6738491-8cc5-4268-971d-ca999f4d3103"
      },
      "execution_count": 9,
      "outputs": [
        {
          "output_type": "execute_result",
          "data": {
            "text/plain": [
              "1500"
            ]
          },
          "metadata": {},
          "execution_count": 9
        }
      ]
    },
    {
      "cell_type": "code",
      "source": [
        "#product_id\n",
        "#check nulls\n",
        "pet_supplies_df.product_id.isna().sum()"
      ],
      "metadata": {
        "colab": {
          "base_uri": "https://localhost:8080/"
        },
        "id": "BQszMF8CSYuO",
        "outputId": "e9821b83-3b6c-4b97-f90b-5dbb8f35a645"
      },
      "execution_count": 10,
      "outputs": [
        {
          "output_type": "execute_result",
          "data": {
            "text/plain": [
              "0"
            ]
          },
          "metadata": {},
          "execution_count": 10
        }
      ]
    },
    {
      "cell_type": "code",
      "source": [
        "pet_supplies_df.product_id.dtype"
      ],
      "metadata": {
        "colab": {
          "base_uri": "https://localhost:8080/"
        },
        "id": "bAIYDQYQaCs8",
        "outputId": "0bf3076d-5ea4-4eda-dc26-fce5757fd53d"
      },
      "execution_count": 11,
      "outputs": [
        {
          "output_type": "execute_result",
          "data": {
            "text/plain": [
              "Int64Dtype()"
            ]
          },
          "metadata": {},
          "execution_count": 11
        }
      ]
    },
    {
      "cell_type": "code",
      "source": [
        "#category\n",
        "pet_supplies_df.category.unique()"
      ],
      "metadata": {
        "colab": {
          "base_uri": "https://localhost:8080/"
        },
        "id": "2ObcN_MkrzgD",
        "outputId": "f1b59195-f7a0-492c-f84b-29088212c432"
      },
      "execution_count": 12,
      "outputs": [
        {
          "output_type": "execute_result",
          "data": {
            "text/plain": [
              "<StringArray>\n",
              "['Food', 'Housing', 'Medicine', 'Toys', 'Equipment', 'Accessory', '-']\n",
              "Length: 7, dtype: string"
            ]
          },
          "metadata": {},
          "execution_count": 12
        }
      ]
    },
    {
      "cell_type": "code",
      "source": [
        "#count unique values\n",
        "pet_supplies_df.category.value_counts()"
      ],
      "metadata": {
        "colab": {
          "base_uri": "https://localhost:8080/"
        },
        "id": "Nii7TFXRMam6",
        "outputId": "edc991ed-2327-4b98-b709-d97ae9b5bfbd"
      },
      "execution_count": 13,
      "outputs": [
        {
          "output_type": "execute_result",
          "data": {
            "text/plain": [
              "Equipment    370\n",
              "Food         260\n",
              "Toys         255\n",
              "Medicine     237\n",
              "Housing      227\n",
              "Accessory    126\n",
              "-             25\n",
              "Name: category, dtype: Int64"
            ]
          },
          "metadata": {},
          "execution_count": 13
        }
      ]
    },
    {
      "cell_type": "code",
      "source": [
        "pet_supplies_df[pet_supplies_df['category'] == '-'] #check category with '-'"
      ],
      "metadata": {
        "colab": {
          "base_uri": "https://localhost:8080/",
          "height": 834
        },
        "id": "adPcl4WVsqG0",
        "outputId": "45a01799-c4cb-4b1a-b992-57935c2ad6ae"
      },
      "execution_count": 14,
      "outputs": [
        {
          "output_type": "execute_result",
          "data": {
            "text/plain": [
              "      product_id category animal    size     price    sales  rating  \\\n",
              "22            23        -   Bird  MEDIUM     32.98   859.94       3   \n",
              "72            73        -    Dog   small     33.13  1101.89       4   \n",
              "173          174        -   Bird   large      51.1  1868.47       5   \n",
              "178          179        -   Bird   large     50.99  1855.16       5   \n",
              "232          233        -    Cat   small     27.74  1024.25       6   \n",
              "267          268        -   Fish   Small     23.12   708.32       4   \n",
              "343          344        -    Cat   small     27.78  1026.38       6   \n",
              "369          370        -    Dog   large  unlisted  1462.67    <NA>   \n",
              "426          427        -    Cat  medium  unlisted  1080.53    <NA>   \n",
              "593          594        -   Fish  Medium     17.95   509.93       5   \n",
              "601          602        -    Dog   Small  unlisted  1113.97    <NA>   \n",
              "633          634        -    Dog  medium      28.1   872.04       4   \n",
              "703          704        -   Bird   Small  unlisted  1085.02    <NA>   \n",
              "734          735        -    Cat   small     25.03   989.97       6   \n",
              "842          843        -    Cat   SMALL     28.14  1040.57       7   \n",
              "913          914        -    Dog  MEDIUM     34.07  1148.89       5   \n",
              "958          959        -   Bird   Small     40.89  1192.94       5   \n",
              "962          963        -    Cat   small     25.06   992.35       7   \n",
              "1097        1098        -   Bird   Large     50.93  1863.64       5   \n",
              "1099        1100        -    Cat  Medium     19.89   737.02       6   \n",
              "1102        1103        -    Dog   small     35.78  1105.22       3   \n",
              "1153        1154        -    Dog   LARGE     36.01   1182.3       5   \n",
              "1245        1246        -    Dog   Small     39.32  1418.79       8   \n",
              "1283        1284        -   Fish   large     27.93   986.13       7   \n",
              "1370        1371        -   Bird   SMALL     37.92  1089.88       6   \n",
              "\n",
              "      repeat_purchase  \n",
              "22                  0  \n",
              "72                  0  \n",
              "173                 0  \n",
              "178                 1  \n",
              "232                 1  \n",
              "267                 1  \n",
              "343                 0  \n",
              "369                 1  \n",
              "426                 0  \n",
              "593                 1  \n",
              "601                 0  \n",
              "633                 0  \n",
              "703                 1  \n",
              "734                 0  \n",
              "842                 1  \n",
              "913                 1  \n",
              "958                 1  \n",
              "962                 1  \n",
              "1097                1  \n",
              "1099                1  \n",
              "1102                1  \n",
              "1153                0  \n",
              "1245                0  \n",
              "1283                1  \n",
              "1370                0  "
            ],
            "text/html": [
              "\n",
              "  <div id=\"df-8a8c11b1-eabd-4486-bbfd-517cf5c7380f\">\n",
              "    <div class=\"colab-df-container\">\n",
              "      <div>\n",
              "<style scoped>\n",
              "    .dataframe tbody tr th:only-of-type {\n",
              "        vertical-align: middle;\n",
              "    }\n",
              "\n",
              "    .dataframe tbody tr th {\n",
              "        vertical-align: top;\n",
              "    }\n",
              "\n",
              "    .dataframe thead th {\n",
              "        text-align: right;\n",
              "    }\n",
              "</style>\n",
              "<table border=\"1\" class=\"dataframe\">\n",
              "  <thead>\n",
              "    <tr style=\"text-align: right;\">\n",
              "      <th></th>\n",
              "      <th>product_id</th>\n",
              "      <th>category</th>\n",
              "      <th>animal</th>\n",
              "      <th>size</th>\n",
              "      <th>price</th>\n",
              "      <th>sales</th>\n",
              "      <th>rating</th>\n",
              "      <th>repeat_purchase</th>\n",
              "    </tr>\n",
              "  </thead>\n",
              "  <tbody>\n",
              "    <tr>\n",
              "      <th>22</th>\n",
              "      <td>23</td>\n",
              "      <td>-</td>\n",
              "      <td>Bird</td>\n",
              "      <td>MEDIUM</td>\n",
              "      <td>32.98</td>\n",
              "      <td>859.94</td>\n",
              "      <td>3</td>\n",
              "      <td>0</td>\n",
              "    </tr>\n",
              "    <tr>\n",
              "      <th>72</th>\n",
              "      <td>73</td>\n",
              "      <td>-</td>\n",
              "      <td>Dog</td>\n",
              "      <td>small</td>\n",
              "      <td>33.13</td>\n",
              "      <td>1101.89</td>\n",
              "      <td>4</td>\n",
              "      <td>0</td>\n",
              "    </tr>\n",
              "    <tr>\n",
              "      <th>173</th>\n",
              "      <td>174</td>\n",
              "      <td>-</td>\n",
              "      <td>Bird</td>\n",
              "      <td>large</td>\n",
              "      <td>51.1</td>\n",
              "      <td>1868.47</td>\n",
              "      <td>5</td>\n",
              "      <td>0</td>\n",
              "    </tr>\n",
              "    <tr>\n",
              "      <th>178</th>\n",
              "      <td>179</td>\n",
              "      <td>-</td>\n",
              "      <td>Bird</td>\n",
              "      <td>large</td>\n",
              "      <td>50.99</td>\n",
              "      <td>1855.16</td>\n",
              "      <td>5</td>\n",
              "      <td>1</td>\n",
              "    </tr>\n",
              "    <tr>\n",
              "      <th>232</th>\n",
              "      <td>233</td>\n",
              "      <td>-</td>\n",
              "      <td>Cat</td>\n",
              "      <td>small</td>\n",
              "      <td>27.74</td>\n",
              "      <td>1024.25</td>\n",
              "      <td>6</td>\n",
              "      <td>1</td>\n",
              "    </tr>\n",
              "    <tr>\n",
              "      <th>267</th>\n",
              "      <td>268</td>\n",
              "      <td>-</td>\n",
              "      <td>Fish</td>\n",
              "      <td>Small</td>\n",
              "      <td>23.12</td>\n",
              "      <td>708.32</td>\n",
              "      <td>4</td>\n",
              "      <td>1</td>\n",
              "    </tr>\n",
              "    <tr>\n",
              "      <th>343</th>\n",
              "      <td>344</td>\n",
              "      <td>-</td>\n",
              "      <td>Cat</td>\n",
              "      <td>small</td>\n",
              "      <td>27.78</td>\n",
              "      <td>1026.38</td>\n",
              "      <td>6</td>\n",
              "      <td>0</td>\n",
              "    </tr>\n",
              "    <tr>\n",
              "      <th>369</th>\n",
              "      <td>370</td>\n",
              "      <td>-</td>\n",
              "      <td>Dog</td>\n",
              "      <td>large</td>\n",
              "      <td>unlisted</td>\n",
              "      <td>1462.67</td>\n",
              "      <td>&lt;NA&gt;</td>\n",
              "      <td>1</td>\n",
              "    </tr>\n",
              "    <tr>\n",
              "      <th>426</th>\n",
              "      <td>427</td>\n",
              "      <td>-</td>\n",
              "      <td>Cat</td>\n",
              "      <td>medium</td>\n",
              "      <td>unlisted</td>\n",
              "      <td>1080.53</td>\n",
              "      <td>&lt;NA&gt;</td>\n",
              "      <td>0</td>\n",
              "    </tr>\n",
              "    <tr>\n",
              "      <th>593</th>\n",
              "      <td>594</td>\n",
              "      <td>-</td>\n",
              "      <td>Fish</td>\n",
              "      <td>Medium</td>\n",
              "      <td>17.95</td>\n",
              "      <td>509.93</td>\n",
              "      <td>5</td>\n",
              "      <td>1</td>\n",
              "    </tr>\n",
              "    <tr>\n",
              "      <th>601</th>\n",
              "      <td>602</td>\n",
              "      <td>-</td>\n",
              "      <td>Dog</td>\n",
              "      <td>Small</td>\n",
              "      <td>unlisted</td>\n",
              "      <td>1113.97</td>\n",
              "      <td>&lt;NA&gt;</td>\n",
              "      <td>0</td>\n",
              "    </tr>\n",
              "    <tr>\n",
              "      <th>633</th>\n",
              "      <td>634</td>\n",
              "      <td>-</td>\n",
              "      <td>Dog</td>\n",
              "      <td>medium</td>\n",
              "      <td>28.1</td>\n",
              "      <td>872.04</td>\n",
              "      <td>4</td>\n",
              "      <td>0</td>\n",
              "    </tr>\n",
              "    <tr>\n",
              "      <th>703</th>\n",
              "      <td>704</td>\n",
              "      <td>-</td>\n",
              "      <td>Bird</td>\n",
              "      <td>Small</td>\n",
              "      <td>unlisted</td>\n",
              "      <td>1085.02</td>\n",
              "      <td>&lt;NA&gt;</td>\n",
              "      <td>1</td>\n",
              "    </tr>\n",
              "    <tr>\n",
              "      <th>734</th>\n",
              "      <td>735</td>\n",
              "      <td>-</td>\n",
              "      <td>Cat</td>\n",
              "      <td>small</td>\n",
              "      <td>25.03</td>\n",
              "      <td>989.97</td>\n",
              "      <td>6</td>\n",
              "      <td>0</td>\n",
              "    </tr>\n",
              "    <tr>\n",
              "      <th>842</th>\n",
              "      <td>843</td>\n",
              "      <td>-</td>\n",
              "      <td>Cat</td>\n",
              "      <td>SMALL</td>\n",
              "      <td>28.14</td>\n",
              "      <td>1040.57</td>\n",
              "      <td>7</td>\n",
              "      <td>1</td>\n",
              "    </tr>\n",
              "    <tr>\n",
              "      <th>913</th>\n",
              "      <td>914</td>\n",
              "      <td>-</td>\n",
              "      <td>Dog</td>\n",
              "      <td>MEDIUM</td>\n",
              "      <td>34.07</td>\n",
              "      <td>1148.89</td>\n",
              "      <td>5</td>\n",
              "      <td>1</td>\n",
              "    </tr>\n",
              "    <tr>\n",
              "      <th>958</th>\n",
              "      <td>959</td>\n",
              "      <td>-</td>\n",
              "      <td>Bird</td>\n",
              "      <td>Small</td>\n",
              "      <td>40.89</td>\n",
              "      <td>1192.94</td>\n",
              "      <td>5</td>\n",
              "      <td>1</td>\n",
              "    </tr>\n",
              "    <tr>\n",
              "      <th>962</th>\n",
              "      <td>963</td>\n",
              "      <td>-</td>\n",
              "      <td>Cat</td>\n",
              "      <td>small</td>\n",
              "      <td>25.06</td>\n",
              "      <td>992.35</td>\n",
              "      <td>7</td>\n",
              "      <td>1</td>\n",
              "    </tr>\n",
              "    <tr>\n",
              "      <th>1097</th>\n",
              "      <td>1098</td>\n",
              "      <td>-</td>\n",
              "      <td>Bird</td>\n",
              "      <td>Large</td>\n",
              "      <td>50.93</td>\n",
              "      <td>1863.64</td>\n",
              "      <td>5</td>\n",
              "      <td>1</td>\n",
              "    </tr>\n",
              "    <tr>\n",
              "      <th>1099</th>\n",
              "      <td>1100</td>\n",
              "      <td>-</td>\n",
              "      <td>Cat</td>\n",
              "      <td>Medium</td>\n",
              "      <td>19.89</td>\n",
              "      <td>737.02</td>\n",
              "      <td>6</td>\n",
              "      <td>1</td>\n",
              "    </tr>\n",
              "    <tr>\n",
              "      <th>1102</th>\n",
              "      <td>1103</td>\n",
              "      <td>-</td>\n",
              "      <td>Dog</td>\n",
              "      <td>small</td>\n",
              "      <td>35.78</td>\n",
              "      <td>1105.22</td>\n",
              "      <td>3</td>\n",
              "      <td>1</td>\n",
              "    </tr>\n",
              "    <tr>\n",
              "      <th>1153</th>\n",
              "      <td>1154</td>\n",
              "      <td>-</td>\n",
              "      <td>Dog</td>\n",
              "      <td>LARGE</td>\n",
              "      <td>36.01</td>\n",
              "      <td>1182.3</td>\n",
              "      <td>5</td>\n",
              "      <td>0</td>\n",
              "    </tr>\n",
              "    <tr>\n",
              "      <th>1245</th>\n",
              "      <td>1246</td>\n",
              "      <td>-</td>\n",
              "      <td>Dog</td>\n",
              "      <td>Small</td>\n",
              "      <td>39.32</td>\n",
              "      <td>1418.79</td>\n",
              "      <td>8</td>\n",
              "      <td>0</td>\n",
              "    </tr>\n",
              "    <tr>\n",
              "      <th>1283</th>\n",
              "      <td>1284</td>\n",
              "      <td>-</td>\n",
              "      <td>Fish</td>\n",
              "      <td>large</td>\n",
              "      <td>27.93</td>\n",
              "      <td>986.13</td>\n",
              "      <td>7</td>\n",
              "      <td>1</td>\n",
              "    </tr>\n",
              "    <tr>\n",
              "      <th>1370</th>\n",
              "      <td>1371</td>\n",
              "      <td>-</td>\n",
              "      <td>Bird</td>\n",
              "      <td>SMALL</td>\n",
              "      <td>37.92</td>\n",
              "      <td>1089.88</td>\n",
              "      <td>6</td>\n",
              "      <td>0</td>\n",
              "    </tr>\n",
              "  </tbody>\n",
              "</table>\n",
              "</div>\n",
              "      <button class=\"colab-df-convert\" onclick=\"convertToInteractive('df-8a8c11b1-eabd-4486-bbfd-517cf5c7380f')\"\n",
              "              title=\"Convert this dataframe to an interactive table.\"\n",
              "              style=\"display:none;\">\n",
              "        \n",
              "  <svg xmlns=\"http://www.w3.org/2000/svg\" height=\"24px\"viewBox=\"0 0 24 24\"\n",
              "       width=\"24px\">\n",
              "    <path d=\"M0 0h24v24H0V0z\" fill=\"none\"/>\n",
              "    <path d=\"M18.56 5.44l.94 2.06.94-2.06 2.06-.94-2.06-.94-.94-2.06-.94 2.06-2.06.94zm-11 1L8.5 8.5l.94-2.06 2.06-.94-2.06-.94L8.5 2.5l-.94 2.06-2.06.94zm10 10l.94 2.06.94-2.06 2.06-.94-2.06-.94-.94-2.06-.94 2.06-2.06.94z\"/><path d=\"M17.41 7.96l-1.37-1.37c-.4-.4-.92-.59-1.43-.59-.52 0-1.04.2-1.43.59L10.3 9.45l-7.72 7.72c-.78.78-.78 2.05 0 2.83L4 21.41c.39.39.9.59 1.41.59.51 0 1.02-.2 1.41-.59l7.78-7.78 2.81-2.81c.8-.78.8-2.07 0-2.86zM5.41 20L4 18.59l7.72-7.72 1.47 1.35L5.41 20z\"/>\n",
              "  </svg>\n",
              "      </button>\n",
              "      \n",
              "  <style>\n",
              "    .colab-df-container {\n",
              "      display:flex;\n",
              "      flex-wrap:wrap;\n",
              "      gap: 12px;\n",
              "    }\n",
              "\n",
              "    .colab-df-convert {\n",
              "      background-color: #E8F0FE;\n",
              "      border: none;\n",
              "      border-radius: 50%;\n",
              "      cursor: pointer;\n",
              "      display: none;\n",
              "      fill: #1967D2;\n",
              "      height: 32px;\n",
              "      padding: 0 0 0 0;\n",
              "      width: 32px;\n",
              "    }\n",
              "\n",
              "    .colab-df-convert:hover {\n",
              "      background-color: #E2EBFA;\n",
              "      box-shadow: 0px 1px 2px rgba(60, 64, 67, 0.3), 0px 1px 3px 1px rgba(60, 64, 67, 0.15);\n",
              "      fill: #174EA6;\n",
              "    }\n",
              "\n",
              "    [theme=dark] .colab-df-convert {\n",
              "      background-color: #3B4455;\n",
              "      fill: #D2E3FC;\n",
              "    }\n",
              "\n",
              "    [theme=dark] .colab-df-convert:hover {\n",
              "      background-color: #434B5C;\n",
              "      box-shadow: 0px 1px 3px 1px rgba(0, 0, 0, 0.15);\n",
              "      filter: drop-shadow(0px 1px 2px rgba(0, 0, 0, 0.3));\n",
              "      fill: #FFFFFF;\n",
              "    }\n",
              "  </style>\n",
              "\n",
              "      <script>\n",
              "        const buttonEl =\n",
              "          document.querySelector('#df-8a8c11b1-eabd-4486-bbfd-517cf5c7380f button.colab-df-convert');\n",
              "        buttonEl.style.display =\n",
              "          google.colab.kernel.accessAllowed ? 'block' : 'none';\n",
              "\n",
              "        async function convertToInteractive(key) {\n",
              "          const element = document.querySelector('#df-8a8c11b1-eabd-4486-bbfd-517cf5c7380f');\n",
              "          const dataTable =\n",
              "            await google.colab.kernel.invokeFunction('convertToInteractive',\n",
              "                                                     [key], {});\n",
              "          if (!dataTable) return;\n",
              "\n",
              "          const docLinkHtml = 'Like what you see? Visit the ' +\n",
              "            '<a target=\"_blank\" href=https://colab.research.google.com/notebooks/data_table.ipynb>data table notebook</a>'\n",
              "            + ' to learn more about interactive tables.';\n",
              "          element.innerHTML = '';\n",
              "          dataTable['output_type'] = 'display_data';\n",
              "          await google.colab.output.renderOutput(dataTable, element);\n",
              "          const docLink = document.createElement('div');\n",
              "          docLink.innerHTML = docLinkHtml;\n",
              "          element.appendChild(docLink);\n",
              "        }\n",
              "      </script>\n",
              "    </div>\n",
              "  </div>\n",
              "  "
            ]
          },
          "metadata": {},
          "execution_count": 14
        }
      ]
    },
    {
      "cell_type": "code",
      "source": [
        "pet_supplies_df['category'] = pet_supplies_df.category.replace('-', 'Unknown') #replace '-' with 'Unknown'"
      ],
      "metadata": {
        "id": "IJUgF5FYs-dY"
      },
      "execution_count": 15,
      "outputs": []
    },
    {
      "cell_type": "code",
      "source": [
        "pet_supplies_df[pet_supplies_df['category'] == '-'] #confirm replace is done"
      ],
      "metadata": {
        "colab": {
          "base_uri": "https://localhost:8080/",
          "height": 50
        },
        "id": "CaQWyl0fvcoe",
        "outputId": "840496d8-63e0-4b7b-e07f-9c49e098a49e"
      },
      "execution_count": 16,
      "outputs": [
        {
          "output_type": "execute_result",
          "data": {
            "text/plain": [
              "Empty DataFrame\n",
              "Columns: [product_id, category, animal, size, price, sales, rating, repeat_purchase]\n",
              "Index: []"
            ],
            "text/html": [
              "\n",
              "  <div id=\"df-9a076f09-4d1a-4a13-aa7a-a59338fbacea\">\n",
              "    <div class=\"colab-df-container\">\n",
              "      <div>\n",
              "<style scoped>\n",
              "    .dataframe tbody tr th:only-of-type {\n",
              "        vertical-align: middle;\n",
              "    }\n",
              "\n",
              "    .dataframe tbody tr th {\n",
              "        vertical-align: top;\n",
              "    }\n",
              "\n",
              "    .dataframe thead th {\n",
              "        text-align: right;\n",
              "    }\n",
              "</style>\n",
              "<table border=\"1\" class=\"dataframe\">\n",
              "  <thead>\n",
              "    <tr style=\"text-align: right;\">\n",
              "      <th></th>\n",
              "      <th>product_id</th>\n",
              "      <th>category</th>\n",
              "      <th>animal</th>\n",
              "      <th>size</th>\n",
              "      <th>price</th>\n",
              "      <th>sales</th>\n",
              "      <th>rating</th>\n",
              "      <th>repeat_purchase</th>\n",
              "    </tr>\n",
              "  </thead>\n",
              "  <tbody>\n",
              "  </tbody>\n",
              "</table>\n",
              "</div>\n",
              "      <button class=\"colab-df-convert\" onclick=\"convertToInteractive('df-9a076f09-4d1a-4a13-aa7a-a59338fbacea')\"\n",
              "              title=\"Convert this dataframe to an interactive table.\"\n",
              "              style=\"display:none;\">\n",
              "        \n",
              "  <svg xmlns=\"http://www.w3.org/2000/svg\" height=\"24px\"viewBox=\"0 0 24 24\"\n",
              "       width=\"24px\">\n",
              "    <path d=\"M0 0h24v24H0V0z\" fill=\"none\"/>\n",
              "    <path d=\"M18.56 5.44l.94 2.06.94-2.06 2.06-.94-2.06-.94-.94-2.06-.94 2.06-2.06.94zm-11 1L8.5 8.5l.94-2.06 2.06-.94-2.06-.94L8.5 2.5l-.94 2.06-2.06.94zm10 10l.94 2.06.94-2.06 2.06-.94-2.06-.94-.94-2.06-.94 2.06-2.06.94z\"/><path d=\"M17.41 7.96l-1.37-1.37c-.4-.4-.92-.59-1.43-.59-.52 0-1.04.2-1.43.59L10.3 9.45l-7.72 7.72c-.78.78-.78 2.05 0 2.83L4 21.41c.39.39.9.59 1.41.59.51 0 1.02-.2 1.41-.59l7.78-7.78 2.81-2.81c.8-.78.8-2.07 0-2.86zM5.41 20L4 18.59l7.72-7.72 1.47 1.35L5.41 20z\"/>\n",
              "  </svg>\n",
              "      </button>\n",
              "      \n",
              "  <style>\n",
              "    .colab-df-container {\n",
              "      display:flex;\n",
              "      flex-wrap:wrap;\n",
              "      gap: 12px;\n",
              "    }\n",
              "\n",
              "    .colab-df-convert {\n",
              "      background-color: #E8F0FE;\n",
              "      border: none;\n",
              "      border-radius: 50%;\n",
              "      cursor: pointer;\n",
              "      display: none;\n",
              "      fill: #1967D2;\n",
              "      height: 32px;\n",
              "      padding: 0 0 0 0;\n",
              "      width: 32px;\n",
              "    }\n",
              "\n",
              "    .colab-df-convert:hover {\n",
              "      background-color: #E2EBFA;\n",
              "      box-shadow: 0px 1px 2px rgba(60, 64, 67, 0.3), 0px 1px 3px 1px rgba(60, 64, 67, 0.15);\n",
              "      fill: #174EA6;\n",
              "    }\n",
              "\n",
              "    [theme=dark] .colab-df-convert {\n",
              "      background-color: #3B4455;\n",
              "      fill: #D2E3FC;\n",
              "    }\n",
              "\n",
              "    [theme=dark] .colab-df-convert:hover {\n",
              "      background-color: #434B5C;\n",
              "      box-shadow: 0px 1px 3px 1px rgba(0, 0, 0, 0.15);\n",
              "      filter: drop-shadow(0px 1px 2px rgba(0, 0, 0, 0.3));\n",
              "      fill: #FFFFFF;\n",
              "    }\n",
              "  </style>\n",
              "\n",
              "      <script>\n",
              "        const buttonEl =\n",
              "          document.querySelector('#df-9a076f09-4d1a-4a13-aa7a-a59338fbacea button.colab-df-convert');\n",
              "        buttonEl.style.display =\n",
              "          google.colab.kernel.accessAllowed ? 'block' : 'none';\n",
              "\n",
              "        async function convertToInteractive(key) {\n",
              "          const element = document.querySelector('#df-9a076f09-4d1a-4a13-aa7a-a59338fbacea');\n",
              "          const dataTable =\n",
              "            await google.colab.kernel.invokeFunction('convertToInteractive',\n",
              "                                                     [key], {});\n",
              "          if (!dataTable) return;\n",
              "\n",
              "          const docLinkHtml = 'Like what you see? Visit the ' +\n",
              "            '<a target=\"_blank\" href=https://colab.research.google.com/notebooks/data_table.ipynb>data table notebook</a>'\n",
              "            + ' to learn more about interactive tables.';\n",
              "          element.innerHTML = '';\n",
              "          dataTable['output_type'] = 'display_data';\n",
              "          await google.colab.output.renderOutput(dataTable, element);\n",
              "          const docLink = document.createElement('div');\n",
              "          docLink.innerHTML = docLinkHtml;\n",
              "          element.appendChild(docLink);\n",
              "        }\n",
              "      </script>\n",
              "    </div>\n",
              "  </div>\n",
              "  "
            ]
          },
          "metadata": {},
          "execution_count": 16
        }
      ]
    },
    {
      "cell_type": "code",
      "source": [
        "pet_supplies_df.category.unique() #reconfirm replace is done"
      ],
      "metadata": {
        "colab": {
          "base_uri": "https://localhost:8080/"
        },
        "id": "9PpDFPdnvoNp",
        "outputId": "9cd04d81-9552-4488-d52c-c67f77b97a8c"
      },
      "execution_count": 17,
      "outputs": [
        {
          "output_type": "execute_result",
          "data": {
            "text/plain": [
              "<StringArray>\n",
              "['Food', 'Housing', 'Medicine', 'Toys', 'Equipment', 'Accessory', 'Unknown']\n",
              "Length: 7, dtype: string"
            ]
          },
          "metadata": {},
          "execution_count": 17
        }
      ]
    },
    {
      "cell_type": "code",
      "source": [
        "#animal\n",
        "pet_supplies_df.animal.unique()"
      ],
      "metadata": {
        "colab": {
          "base_uri": "https://localhost:8080/"
        },
        "id": "x8wWUdeuECMn",
        "outputId": "a1892672-35e8-493c-b40e-efc94f570900"
      },
      "execution_count": 18,
      "outputs": [
        {
          "output_type": "execute_result",
          "data": {
            "text/plain": [
              "<StringArray>\n",
              "['Bird', 'Dog', 'Cat', 'Fish']\n",
              "Length: 4, dtype: string"
            ]
          },
          "metadata": {},
          "execution_count": 18
        }
      ]
    },
    {
      "cell_type": "code",
      "source": [
        "pet_supplies_df.animal.value_counts()"
      ],
      "metadata": {
        "colab": {
          "base_uri": "https://localhost:8080/"
        },
        "id": "1NkSm0dzSQII",
        "outputId": "a7e77577-3917-4d99-b874-e04eabc886c3"
      },
      "execution_count": 19,
      "outputs": [
        {
          "output_type": "execute_result",
          "data": {
            "text/plain": [
              "Cat     567\n",
              "Fish    369\n",
              "Dog     367\n",
              "Bird    197\n",
              "Name: animal, dtype: Int64"
            ]
          },
          "metadata": {},
          "execution_count": 19
        }
      ]
    },
    {
      "cell_type": "code",
      "source": [
        "pet_supplies_df.animal.dtype"
      ],
      "metadata": {
        "colab": {
          "base_uri": "https://localhost:8080/"
        },
        "id": "CvxM0QxQZ33Q",
        "outputId": "735b37bf-d8d0-4dca-e901-98e99af62126"
      },
      "execution_count": 20,
      "outputs": [
        {
          "output_type": "execute_result",
          "data": {
            "text/plain": [
              "string[python]"
            ]
          },
          "metadata": {},
          "execution_count": 20
        }
      ]
    },
    {
      "cell_type": "code",
      "source": [
        "pet_supplies_df.animal.isna().sum()"
      ],
      "metadata": {
        "colab": {
          "base_uri": "https://localhost:8080/"
        },
        "id": "t4d5LJEUSQE_",
        "outputId": "e57d67aa-d0b0-4c2a-a219-680da311cb6a"
      },
      "execution_count": 21,
      "outputs": [
        {
          "output_type": "execute_result",
          "data": {
            "text/plain": [
              "0"
            ]
          },
          "metadata": {},
          "execution_count": 21
        }
      ]
    },
    {
      "cell_type": "code",
      "source": [
        "#price\n",
        "pet_supplies_df.price.dtype"
      ],
      "metadata": {
        "colab": {
          "base_uri": "https://localhost:8080/"
        },
        "id": "mSUMA5niSQCM",
        "outputId": "1770f67d-0bd7-4f4b-dc7e-ba4ea1a92fa5"
      },
      "execution_count": 22,
      "outputs": [
        {
          "output_type": "execute_result",
          "data": {
            "text/plain": [
              "string[python]"
            ]
          },
          "metadata": {},
          "execution_count": 22
        }
      ]
    },
    {
      "cell_type": "code",
      "source": [
        "pet_supplies_df.price.unique()"
      ],
      "metadata": {
        "colab": {
          "base_uri": "https://localhost:8080/"
        },
        "id": "jIIw0luHlNWZ",
        "outputId": "d8576a85-00da-494b-dbc3-c528018ed8f7"
      },
      "execution_count": 23,
      "outputs": [
        {
          "output_type": "execute_result",
          "data": {
            "text/plain": [
              "<StringArray>\n",
              "[ '51.1', '35.98', '31.23', '24.95', '26.18', '30.77', '31.04',  '28.9',\n",
              " '17.82', '24.93',\n",
              " ...\n",
              "    '21', '29.79', '45.96', '29.81', '41.16', '40.98', '20.14', '39.96',\n",
              " '32.89', '25.79']\n",
              "Length: 707, dtype: string"
            ]
          },
          "metadata": {},
          "execution_count": 23
        }
      ]
    },
    {
      "cell_type": "code",
      "source": [
        "pet_supplies_df.price.value_counts()"
      ],
      "metadata": {
        "colab": {
          "base_uri": "https://localhost:8080/"
        },
        "id": "-YNNIrkzl5-L",
        "outputId": "a612a19d-7553-4737-ef47-77a59397d8e2"
      },
      "execution_count": 24,
      "outputs": [
        {
          "output_type": "execute_result",
          "data": {
            "text/plain": [
              "unlisted    150\n",
              "22.98        13\n",
              "28           10\n",
              "28.03         8\n",
              "19.94         8\n",
              "           ... \n",
              "41.18         1\n",
              "23.17         1\n",
              "15.09         1\n",
              "22.81         1\n",
              "25.79         1\n",
              "Name: price, Length: 707, dtype: Int64"
            ]
          },
          "metadata": {},
          "execution_count": 24
        }
      ]
    },
    {
      "cell_type": "code",
      "source": [
        "pet_supplies_df.price.max()"
      ],
      "metadata": {
        "colab": {
          "base_uri": "https://localhost:8080/",
          "height": 35
        },
        "id": "9JUyuns1qfC_",
        "outputId": "0d502869-5b42-4591-a537-efdeb405c483"
      },
      "execution_count": 25,
      "outputs": [
        {
          "output_type": "execute_result",
          "data": {
            "text/plain": [
              "'unlisted'"
            ],
            "application/vnd.google.colaboratory.intrinsic+json": {
              "type": "string"
            }
          },
          "metadata": {},
          "execution_count": 25
        }
      ]
    },
    {
      "cell_type": "code",
      "source": [
        "#check price column with unlisted\n",
        "pet_supplies_df[pet_supplies_df['price'] == 'unlisted'] #check category with 'unlisted'"
      ],
      "metadata": {
        "colab": {
          "base_uri": "https://localhost:8080/",
          "height": 424
        },
        "id": "nD8OysAks4uJ",
        "outputId": "2e568433-ac9e-4bbd-ab25-a682e99990bd"
      },
      "execution_count": 26,
      "outputs": [
        {
          "output_type": "execute_result",
          "data": {
            "text/plain": [
              "      product_id   category animal    size     price    sales  rating  \\\n",
              "20            21       Food   Fish  medium  unlisted   542.06    <NA>   \n",
              "44            45   Medicine   Bird  medium  unlisted  1209.41    <NA>   \n",
              "46            47       Toys    Cat   SMALL  unlisted  1367.47    <NA>   \n",
              "70            71  Equipment    Dog   LARGE  unlisted  1446.43    <NA>   \n",
              "73            74       Food   Bird   Large  unlisted  1864.01    <NA>   \n",
              "...          ...        ...    ...     ...       ...      ...     ...   \n",
              "1447        1448   Medicine   Fish  medium  unlisted   456.96    <NA>   \n",
              "1469        1470  Equipment   Fish   small  unlisted   710.47    <NA>   \n",
              "1471        1472       Toys   Fish   small  unlisted   976.63    <NA>   \n",
              "1476        1477    Housing   Bird   large  unlisted  1567.31    <NA>   \n",
              "1483        1484  Equipment    Cat   SMALL  unlisted  1037.81    <NA>   \n",
              "\n",
              "      repeat_purchase  \n",
              "20                  0  \n",
              "44                  0  \n",
              "46                  1  \n",
              "70                  0  \n",
              "73                  0  \n",
              "...               ...  \n",
              "1447                1  \n",
              "1469                0  \n",
              "1471                0  \n",
              "1476                1  \n",
              "1483                1  \n",
              "\n",
              "[150 rows x 8 columns]"
            ],
            "text/html": [
              "\n",
              "  <div id=\"df-2233f399-6d25-4b4d-8fc4-87d74feede96\">\n",
              "    <div class=\"colab-df-container\">\n",
              "      <div>\n",
              "<style scoped>\n",
              "    .dataframe tbody tr th:only-of-type {\n",
              "        vertical-align: middle;\n",
              "    }\n",
              "\n",
              "    .dataframe tbody tr th {\n",
              "        vertical-align: top;\n",
              "    }\n",
              "\n",
              "    .dataframe thead th {\n",
              "        text-align: right;\n",
              "    }\n",
              "</style>\n",
              "<table border=\"1\" class=\"dataframe\">\n",
              "  <thead>\n",
              "    <tr style=\"text-align: right;\">\n",
              "      <th></th>\n",
              "      <th>product_id</th>\n",
              "      <th>category</th>\n",
              "      <th>animal</th>\n",
              "      <th>size</th>\n",
              "      <th>price</th>\n",
              "      <th>sales</th>\n",
              "      <th>rating</th>\n",
              "      <th>repeat_purchase</th>\n",
              "    </tr>\n",
              "  </thead>\n",
              "  <tbody>\n",
              "    <tr>\n",
              "      <th>20</th>\n",
              "      <td>21</td>\n",
              "      <td>Food</td>\n",
              "      <td>Fish</td>\n",
              "      <td>medium</td>\n",
              "      <td>unlisted</td>\n",
              "      <td>542.06</td>\n",
              "      <td>&lt;NA&gt;</td>\n",
              "      <td>0</td>\n",
              "    </tr>\n",
              "    <tr>\n",
              "      <th>44</th>\n",
              "      <td>45</td>\n",
              "      <td>Medicine</td>\n",
              "      <td>Bird</td>\n",
              "      <td>medium</td>\n",
              "      <td>unlisted</td>\n",
              "      <td>1209.41</td>\n",
              "      <td>&lt;NA&gt;</td>\n",
              "      <td>0</td>\n",
              "    </tr>\n",
              "    <tr>\n",
              "      <th>46</th>\n",
              "      <td>47</td>\n",
              "      <td>Toys</td>\n",
              "      <td>Cat</td>\n",
              "      <td>SMALL</td>\n",
              "      <td>unlisted</td>\n",
              "      <td>1367.47</td>\n",
              "      <td>&lt;NA&gt;</td>\n",
              "      <td>1</td>\n",
              "    </tr>\n",
              "    <tr>\n",
              "      <th>70</th>\n",
              "      <td>71</td>\n",
              "      <td>Equipment</td>\n",
              "      <td>Dog</td>\n",
              "      <td>LARGE</td>\n",
              "      <td>unlisted</td>\n",
              "      <td>1446.43</td>\n",
              "      <td>&lt;NA&gt;</td>\n",
              "      <td>0</td>\n",
              "    </tr>\n",
              "    <tr>\n",
              "      <th>73</th>\n",
              "      <td>74</td>\n",
              "      <td>Food</td>\n",
              "      <td>Bird</td>\n",
              "      <td>Large</td>\n",
              "      <td>unlisted</td>\n",
              "      <td>1864.01</td>\n",
              "      <td>&lt;NA&gt;</td>\n",
              "      <td>0</td>\n",
              "    </tr>\n",
              "    <tr>\n",
              "      <th>...</th>\n",
              "      <td>...</td>\n",
              "      <td>...</td>\n",
              "      <td>...</td>\n",
              "      <td>...</td>\n",
              "      <td>...</td>\n",
              "      <td>...</td>\n",
              "      <td>...</td>\n",
              "      <td>...</td>\n",
              "    </tr>\n",
              "    <tr>\n",
              "      <th>1447</th>\n",
              "      <td>1448</td>\n",
              "      <td>Medicine</td>\n",
              "      <td>Fish</td>\n",
              "      <td>medium</td>\n",
              "      <td>unlisted</td>\n",
              "      <td>456.96</td>\n",
              "      <td>&lt;NA&gt;</td>\n",
              "      <td>1</td>\n",
              "    </tr>\n",
              "    <tr>\n",
              "      <th>1469</th>\n",
              "      <td>1470</td>\n",
              "      <td>Equipment</td>\n",
              "      <td>Fish</td>\n",
              "      <td>small</td>\n",
              "      <td>unlisted</td>\n",
              "      <td>710.47</td>\n",
              "      <td>&lt;NA&gt;</td>\n",
              "      <td>0</td>\n",
              "    </tr>\n",
              "    <tr>\n",
              "      <th>1471</th>\n",
              "      <td>1472</td>\n",
              "      <td>Toys</td>\n",
              "      <td>Fish</td>\n",
              "      <td>small</td>\n",
              "      <td>unlisted</td>\n",
              "      <td>976.63</td>\n",
              "      <td>&lt;NA&gt;</td>\n",
              "      <td>0</td>\n",
              "    </tr>\n",
              "    <tr>\n",
              "      <th>1476</th>\n",
              "      <td>1477</td>\n",
              "      <td>Housing</td>\n",
              "      <td>Bird</td>\n",
              "      <td>large</td>\n",
              "      <td>unlisted</td>\n",
              "      <td>1567.31</td>\n",
              "      <td>&lt;NA&gt;</td>\n",
              "      <td>1</td>\n",
              "    </tr>\n",
              "    <tr>\n",
              "      <th>1483</th>\n",
              "      <td>1484</td>\n",
              "      <td>Equipment</td>\n",
              "      <td>Cat</td>\n",
              "      <td>SMALL</td>\n",
              "      <td>unlisted</td>\n",
              "      <td>1037.81</td>\n",
              "      <td>&lt;NA&gt;</td>\n",
              "      <td>1</td>\n",
              "    </tr>\n",
              "  </tbody>\n",
              "</table>\n",
              "<p>150 rows × 8 columns</p>\n",
              "</div>\n",
              "      <button class=\"colab-df-convert\" onclick=\"convertToInteractive('df-2233f399-6d25-4b4d-8fc4-87d74feede96')\"\n",
              "              title=\"Convert this dataframe to an interactive table.\"\n",
              "              style=\"display:none;\">\n",
              "        \n",
              "  <svg xmlns=\"http://www.w3.org/2000/svg\" height=\"24px\"viewBox=\"0 0 24 24\"\n",
              "       width=\"24px\">\n",
              "    <path d=\"M0 0h24v24H0V0z\" fill=\"none\"/>\n",
              "    <path d=\"M18.56 5.44l.94 2.06.94-2.06 2.06-.94-2.06-.94-.94-2.06-.94 2.06-2.06.94zm-11 1L8.5 8.5l.94-2.06 2.06-.94-2.06-.94L8.5 2.5l-.94 2.06-2.06.94zm10 10l.94 2.06.94-2.06 2.06-.94-2.06-.94-.94-2.06-.94 2.06-2.06.94z\"/><path d=\"M17.41 7.96l-1.37-1.37c-.4-.4-.92-.59-1.43-.59-.52 0-1.04.2-1.43.59L10.3 9.45l-7.72 7.72c-.78.78-.78 2.05 0 2.83L4 21.41c.39.39.9.59 1.41.59.51 0 1.02-.2 1.41-.59l7.78-7.78 2.81-2.81c.8-.78.8-2.07 0-2.86zM5.41 20L4 18.59l7.72-7.72 1.47 1.35L5.41 20z\"/>\n",
              "  </svg>\n",
              "      </button>\n",
              "      \n",
              "  <style>\n",
              "    .colab-df-container {\n",
              "      display:flex;\n",
              "      flex-wrap:wrap;\n",
              "      gap: 12px;\n",
              "    }\n",
              "\n",
              "    .colab-df-convert {\n",
              "      background-color: #E8F0FE;\n",
              "      border: none;\n",
              "      border-radius: 50%;\n",
              "      cursor: pointer;\n",
              "      display: none;\n",
              "      fill: #1967D2;\n",
              "      height: 32px;\n",
              "      padding: 0 0 0 0;\n",
              "      width: 32px;\n",
              "    }\n",
              "\n",
              "    .colab-df-convert:hover {\n",
              "      background-color: #E2EBFA;\n",
              "      box-shadow: 0px 1px 2px rgba(60, 64, 67, 0.3), 0px 1px 3px 1px rgba(60, 64, 67, 0.15);\n",
              "      fill: #174EA6;\n",
              "    }\n",
              "\n",
              "    [theme=dark] .colab-df-convert {\n",
              "      background-color: #3B4455;\n",
              "      fill: #D2E3FC;\n",
              "    }\n",
              "\n",
              "    [theme=dark] .colab-df-convert:hover {\n",
              "      background-color: #434B5C;\n",
              "      box-shadow: 0px 1px 3px 1px rgba(0, 0, 0, 0.15);\n",
              "      filter: drop-shadow(0px 1px 2px rgba(0, 0, 0, 0.3));\n",
              "      fill: #FFFFFF;\n",
              "    }\n",
              "  </style>\n",
              "\n",
              "      <script>\n",
              "        const buttonEl =\n",
              "          document.querySelector('#df-2233f399-6d25-4b4d-8fc4-87d74feede96 button.colab-df-convert');\n",
              "        buttonEl.style.display =\n",
              "          google.colab.kernel.accessAllowed ? 'block' : 'none';\n",
              "\n",
              "        async function convertToInteractive(key) {\n",
              "          const element = document.querySelector('#df-2233f399-6d25-4b4d-8fc4-87d74feede96');\n",
              "          const dataTable =\n",
              "            await google.colab.kernel.invokeFunction('convertToInteractive',\n",
              "                                                     [key], {});\n",
              "          if (!dataTable) return;\n",
              "\n",
              "          const docLinkHtml = 'Like what you see? Visit the ' +\n",
              "            '<a target=\"_blank\" href=https://colab.research.google.com/notebooks/data_table.ipynb>data table notebook</a>'\n",
              "            + ' to learn more about interactive tables.';\n",
              "          element.innerHTML = '';\n",
              "          dataTable['output_type'] = 'display_data';\n",
              "          await google.colab.output.renderOutput(dataTable, element);\n",
              "          const docLink = document.createElement('div');\n",
              "          docLink.innerHTML = docLinkHtml;\n",
              "          element.appendChild(docLink);\n",
              "        }\n",
              "      </script>\n",
              "    </div>\n",
              "  </div>\n",
              "  "
            ]
          },
          "metadata": {},
          "execution_count": 26
        }
      ]
    },
    {
      "cell_type": "code",
      "source": [
        "pet_supplies_df[pet_supplies_df['price'] == '0.0']"
      ],
      "metadata": {
        "colab": {
          "base_uri": "https://localhost:8080/",
          "height": 50
        },
        "id": "4mx0r_XnuTri",
        "outputId": "958dab0c-efac-4033-d8fa-aea9b6971d0a"
      },
      "execution_count": 27,
      "outputs": [
        {
          "output_type": "execute_result",
          "data": {
            "text/plain": [
              "Empty DataFrame\n",
              "Columns: [product_id, category, animal, size, price, sales, rating, repeat_purchase]\n",
              "Index: []"
            ],
            "text/html": [
              "\n",
              "  <div id=\"df-2487bdd5-fec3-47de-923f-57845a8b93b9\">\n",
              "    <div class=\"colab-df-container\">\n",
              "      <div>\n",
              "<style scoped>\n",
              "    .dataframe tbody tr th:only-of-type {\n",
              "        vertical-align: middle;\n",
              "    }\n",
              "\n",
              "    .dataframe tbody tr th {\n",
              "        vertical-align: top;\n",
              "    }\n",
              "\n",
              "    .dataframe thead th {\n",
              "        text-align: right;\n",
              "    }\n",
              "</style>\n",
              "<table border=\"1\" class=\"dataframe\">\n",
              "  <thead>\n",
              "    <tr style=\"text-align: right;\">\n",
              "      <th></th>\n",
              "      <th>product_id</th>\n",
              "      <th>category</th>\n",
              "      <th>animal</th>\n",
              "      <th>size</th>\n",
              "      <th>price</th>\n",
              "      <th>sales</th>\n",
              "      <th>rating</th>\n",
              "      <th>repeat_purchase</th>\n",
              "    </tr>\n",
              "  </thead>\n",
              "  <tbody>\n",
              "  </tbody>\n",
              "</table>\n",
              "</div>\n",
              "      <button class=\"colab-df-convert\" onclick=\"convertToInteractive('df-2487bdd5-fec3-47de-923f-57845a8b93b9')\"\n",
              "              title=\"Convert this dataframe to an interactive table.\"\n",
              "              style=\"display:none;\">\n",
              "        \n",
              "  <svg xmlns=\"http://www.w3.org/2000/svg\" height=\"24px\"viewBox=\"0 0 24 24\"\n",
              "       width=\"24px\">\n",
              "    <path d=\"M0 0h24v24H0V0z\" fill=\"none\"/>\n",
              "    <path d=\"M18.56 5.44l.94 2.06.94-2.06 2.06-.94-2.06-.94-.94-2.06-.94 2.06-2.06.94zm-11 1L8.5 8.5l.94-2.06 2.06-.94-2.06-.94L8.5 2.5l-.94 2.06-2.06.94zm10 10l.94 2.06.94-2.06 2.06-.94-2.06-.94-.94-2.06-.94 2.06-2.06.94z\"/><path d=\"M17.41 7.96l-1.37-1.37c-.4-.4-.92-.59-1.43-.59-.52 0-1.04.2-1.43.59L10.3 9.45l-7.72 7.72c-.78.78-.78 2.05 0 2.83L4 21.41c.39.39.9.59 1.41.59.51 0 1.02-.2 1.41-.59l7.78-7.78 2.81-2.81c.8-.78.8-2.07 0-2.86zM5.41 20L4 18.59l7.72-7.72 1.47 1.35L5.41 20z\"/>\n",
              "  </svg>\n",
              "      </button>\n",
              "      \n",
              "  <style>\n",
              "    .colab-df-container {\n",
              "      display:flex;\n",
              "      flex-wrap:wrap;\n",
              "      gap: 12px;\n",
              "    }\n",
              "\n",
              "    .colab-df-convert {\n",
              "      background-color: #E8F0FE;\n",
              "      border: none;\n",
              "      border-radius: 50%;\n",
              "      cursor: pointer;\n",
              "      display: none;\n",
              "      fill: #1967D2;\n",
              "      height: 32px;\n",
              "      padding: 0 0 0 0;\n",
              "      width: 32px;\n",
              "    }\n",
              "\n",
              "    .colab-df-convert:hover {\n",
              "      background-color: #E2EBFA;\n",
              "      box-shadow: 0px 1px 2px rgba(60, 64, 67, 0.3), 0px 1px 3px 1px rgba(60, 64, 67, 0.15);\n",
              "      fill: #174EA6;\n",
              "    }\n",
              "\n",
              "    [theme=dark] .colab-df-convert {\n",
              "      background-color: #3B4455;\n",
              "      fill: #D2E3FC;\n",
              "    }\n",
              "\n",
              "    [theme=dark] .colab-df-convert:hover {\n",
              "      background-color: #434B5C;\n",
              "      box-shadow: 0px 1px 3px 1px rgba(0, 0, 0, 0.15);\n",
              "      filter: drop-shadow(0px 1px 2px rgba(0, 0, 0, 0.3));\n",
              "      fill: #FFFFFF;\n",
              "    }\n",
              "  </style>\n",
              "\n",
              "      <script>\n",
              "        const buttonEl =\n",
              "          document.querySelector('#df-2487bdd5-fec3-47de-923f-57845a8b93b9 button.colab-df-convert');\n",
              "        buttonEl.style.display =\n",
              "          google.colab.kernel.accessAllowed ? 'block' : 'none';\n",
              "\n",
              "        async function convertToInteractive(key) {\n",
              "          const element = document.querySelector('#df-2487bdd5-fec3-47de-923f-57845a8b93b9');\n",
              "          const dataTable =\n",
              "            await google.colab.kernel.invokeFunction('convertToInteractive',\n",
              "                                                     [key], {});\n",
              "          if (!dataTable) return;\n",
              "\n",
              "          const docLinkHtml = 'Like what you see? Visit the ' +\n",
              "            '<a target=\"_blank\" href=https://colab.research.google.com/notebooks/data_table.ipynb>data table notebook</a>'\n",
              "            + ' to learn more about interactive tables.';\n",
              "          element.innerHTML = '';\n",
              "          dataTable['output_type'] = 'display_data';\n",
              "          await google.colab.output.renderOutput(dataTable, element);\n",
              "          const docLink = document.createElement('div');\n",
              "          docLink.innerHTML = docLinkHtml;\n",
              "          element.appendChild(docLink);\n",
              "        }\n",
              "      </script>\n",
              "    </div>\n",
              "  </div>\n",
              "  "
            ]
          },
          "metadata": {},
          "execution_count": 27
        }
      ]
    },
    {
      "cell_type": "code",
      "source": [
        "#change unlisted to zero\n",
        "pet_supplies_df.price = pet_supplies_df.price.replace(\"unlisted\",'0')\n",
        "pet_supplies_df.price.value_counts()"
      ],
      "metadata": {
        "colab": {
          "base_uri": "https://localhost:8080/"
        },
        "id": "597In9NmlkSO",
        "outputId": "60b19ed7-c72d-4cd9-c5a3-69f71faac697"
      },
      "execution_count": 28,
      "outputs": [
        {
          "output_type": "execute_result",
          "data": {
            "text/plain": [
              "0        150\n",
              "22.98     13\n",
              "28        10\n",
              "28.03      8\n",
              "19.94      8\n",
              "        ... \n",
              "41.18      1\n",
              "23.17      1\n",
              "15.09      1\n",
              "22.81      1\n",
              "25.79      1\n",
              "Name: price, Length: 707, dtype: Int64"
            ]
          },
          "metadata": {},
          "execution_count": 28
        }
      ]
    },
    {
      "cell_type": "code",
      "source": [
        "#convert price dtype string to float\n",
        "pet_supplies_df['price'] = pet_supplies_df['price'].astype(float)\n",
        "pet_supplies_df['price'].dtype"
      ],
      "metadata": {
        "colab": {
          "base_uri": "https://localhost:8080/"
        },
        "id": "msCzpBaqdeUL",
        "outputId": "90020766-2483-471f-a174-63cf9693b731"
      },
      "execution_count": 29,
      "outputs": [
        {
          "output_type": "execute_result",
          "data": {
            "text/plain": [
              "dtype('float64')"
            ]
          },
          "metadata": {},
          "execution_count": 29
        }
      ]
    },
    {
      "cell_type": "code",
      "source": [
        "pet_supplies_df.price.value_counts()"
      ],
      "metadata": {
        "colab": {
          "base_uri": "https://localhost:8080/"
        },
        "id": "POL-VEUBux3I",
        "outputId": "f34849dc-e831-4057-a94f-811fc05cef1c"
      },
      "execution_count": 30,
      "outputs": [
        {
          "output_type": "execute_result",
          "data": {
            "text/plain": [
              "0.00     150\n",
              "22.98     13\n",
              "28.00     10\n",
              "28.03      8\n",
              "19.94      8\n",
              "        ... \n",
              "38.66      1\n",
              "36.00      1\n",
              "19.97      1\n",
              "39.19      1\n",
              "25.79      1\n",
              "Name: price, Length: 707, dtype: int64"
            ]
          },
          "metadata": {},
          "execution_count": 30
        }
      ]
    },
    {
      "cell_type": "code",
      "source": [
        "#get the median of price and replace 0 with median price\n",
        "pet_supplies_df.price.median()"
      ],
      "metadata": {
        "colab": {
          "base_uri": "https://localhost:8080/"
        },
        "id": "5ZC7nG6zr4Pv",
        "outputId": "268c6ad6-d558-4089-cddc-e4c543c3332f"
      },
      "execution_count": 31,
      "outputs": [
        {
          "output_type": "execute_result",
          "data": {
            "text/plain": [
              "27.93"
            ]
          },
          "metadata": {},
          "execution_count": 31
        }
      ]
    },
    {
      "cell_type": "code",
      "source": [
        "#how many are of median price?\n",
        "pet_supplies_df[pet_supplies_df['price'] == 27.93]"
      ],
      "metadata": {
        "colab": {
          "base_uri": "https://localhost:8080/",
          "height": 175
        },
        "id": "QLZT7sdnu3Qe",
        "outputId": "853b7deb-d38c-42be-80d1-6ce955c6be2a"
      },
      "execution_count": 32,
      "outputs": [
        {
          "output_type": "execute_result",
          "data": {
            "text/plain": [
              "      product_id   category animal    size  price    sales  rating  \\\n",
              "166          167  Equipment    Cat   small  27.93   1031.5       6   \n",
              "552          553  Equipment    Dog  medium  27.93   871.63       6   \n",
              "979          980  Equipment    Cat   Small  27.93  1033.08       6   \n",
              "1283        1284    Unknown   Fish   large  27.93   986.13       7   \n",
              "\n",
              "      repeat_purchase  \n",
              "166                 1  \n",
              "552                 1  \n",
              "979                 0  \n",
              "1283                1  "
            ],
            "text/html": [
              "\n",
              "  <div id=\"df-0d970ba0-2010-4c57-b7d6-fc3ff1f6d7f3\">\n",
              "    <div class=\"colab-df-container\">\n",
              "      <div>\n",
              "<style scoped>\n",
              "    .dataframe tbody tr th:only-of-type {\n",
              "        vertical-align: middle;\n",
              "    }\n",
              "\n",
              "    .dataframe tbody tr th {\n",
              "        vertical-align: top;\n",
              "    }\n",
              "\n",
              "    .dataframe thead th {\n",
              "        text-align: right;\n",
              "    }\n",
              "</style>\n",
              "<table border=\"1\" class=\"dataframe\">\n",
              "  <thead>\n",
              "    <tr style=\"text-align: right;\">\n",
              "      <th></th>\n",
              "      <th>product_id</th>\n",
              "      <th>category</th>\n",
              "      <th>animal</th>\n",
              "      <th>size</th>\n",
              "      <th>price</th>\n",
              "      <th>sales</th>\n",
              "      <th>rating</th>\n",
              "      <th>repeat_purchase</th>\n",
              "    </tr>\n",
              "  </thead>\n",
              "  <tbody>\n",
              "    <tr>\n",
              "      <th>166</th>\n",
              "      <td>167</td>\n",
              "      <td>Equipment</td>\n",
              "      <td>Cat</td>\n",
              "      <td>small</td>\n",
              "      <td>27.93</td>\n",
              "      <td>1031.5</td>\n",
              "      <td>6</td>\n",
              "      <td>1</td>\n",
              "    </tr>\n",
              "    <tr>\n",
              "      <th>552</th>\n",
              "      <td>553</td>\n",
              "      <td>Equipment</td>\n",
              "      <td>Dog</td>\n",
              "      <td>medium</td>\n",
              "      <td>27.93</td>\n",
              "      <td>871.63</td>\n",
              "      <td>6</td>\n",
              "      <td>1</td>\n",
              "    </tr>\n",
              "    <tr>\n",
              "      <th>979</th>\n",
              "      <td>980</td>\n",
              "      <td>Equipment</td>\n",
              "      <td>Cat</td>\n",
              "      <td>Small</td>\n",
              "      <td>27.93</td>\n",
              "      <td>1033.08</td>\n",
              "      <td>6</td>\n",
              "      <td>0</td>\n",
              "    </tr>\n",
              "    <tr>\n",
              "      <th>1283</th>\n",
              "      <td>1284</td>\n",
              "      <td>Unknown</td>\n",
              "      <td>Fish</td>\n",
              "      <td>large</td>\n",
              "      <td>27.93</td>\n",
              "      <td>986.13</td>\n",
              "      <td>7</td>\n",
              "      <td>1</td>\n",
              "    </tr>\n",
              "  </tbody>\n",
              "</table>\n",
              "</div>\n",
              "      <button class=\"colab-df-convert\" onclick=\"convertToInteractive('df-0d970ba0-2010-4c57-b7d6-fc3ff1f6d7f3')\"\n",
              "              title=\"Convert this dataframe to an interactive table.\"\n",
              "              style=\"display:none;\">\n",
              "        \n",
              "  <svg xmlns=\"http://www.w3.org/2000/svg\" height=\"24px\"viewBox=\"0 0 24 24\"\n",
              "       width=\"24px\">\n",
              "    <path d=\"M0 0h24v24H0V0z\" fill=\"none\"/>\n",
              "    <path d=\"M18.56 5.44l.94 2.06.94-2.06 2.06-.94-2.06-.94-.94-2.06-.94 2.06-2.06.94zm-11 1L8.5 8.5l.94-2.06 2.06-.94-2.06-.94L8.5 2.5l-.94 2.06-2.06.94zm10 10l.94 2.06.94-2.06 2.06-.94-2.06-.94-.94-2.06-.94 2.06-2.06.94z\"/><path d=\"M17.41 7.96l-1.37-1.37c-.4-.4-.92-.59-1.43-.59-.52 0-1.04.2-1.43.59L10.3 9.45l-7.72 7.72c-.78.78-.78 2.05 0 2.83L4 21.41c.39.39.9.59 1.41.59.51 0 1.02-.2 1.41-.59l7.78-7.78 2.81-2.81c.8-.78.8-2.07 0-2.86zM5.41 20L4 18.59l7.72-7.72 1.47 1.35L5.41 20z\"/>\n",
              "  </svg>\n",
              "      </button>\n",
              "      \n",
              "  <style>\n",
              "    .colab-df-container {\n",
              "      display:flex;\n",
              "      flex-wrap:wrap;\n",
              "      gap: 12px;\n",
              "    }\n",
              "\n",
              "    .colab-df-convert {\n",
              "      background-color: #E8F0FE;\n",
              "      border: none;\n",
              "      border-radius: 50%;\n",
              "      cursor: pointer;\n",
              "      display: none;\n",
              "      fill: #1967D2;\n",
              "      height: 32px;\n",
              "      padding: 0 0 0 0;\n",
              "      width: 32px;\n",
              "    }\n",
              "\n",
              "    .colab-df-convert:hover {\n",
              "      background-color: #E2EBFA;\n",
              "      box-shadow: 0px 1px 2px rgba(60, 64, 67, 0.3), 0px 1px 3px 1px rgba(60, 64, 67, 0.15);\n",
              "      fill: #174EA6;\n",
              "    }\n",
              "\n",
              "    [theme=dark] .colab-df-convert {\n",
              "      background-color: #3B4455;\n",
              "      fill: #D2E3FC;\n",
              "    }\n",
              "\n",
              "    [theme=dark] .colab-df-convert:hover {\n",
              "      background-color: #434B5C;\n",
              "      box-shadow: 0px 1px 3px 1px rgba(0, 0, 0, 0.15);\n",
              "      filter: drop-shadow(0px 1px 2px rgba(0, 0, 0, 0.3));\n",
              "      fill: #FFFFFF;\n",
              "    }\n",
              "  </style>\n",
              "\n",
              "      <script>\n",
              "        const buttonEl =\n",
              "          document.querySelector('#df-0d970ba0-2010-4c57-b7d6-fc3ff1f6d7f3 button.colab-df-convert');\n",
              "        buttonEl.style.display =\n",
              "          google.colab.kernel.accessAllowed ? 'block' : 'none';\n",
              "\n",
              "        async function convertToInteractive(key) {\n",
              "          const element = document.querySelector('#df-0d970ba0-2010-4c57-b7d6-fc3ff1f6d7f3');\n",
              "          const dataTable =\n",
              "            await google.colab.kernel.invokeFunction('convertToInteractive',\n",
              "                                                     [key], {});\n",
              "          if (!dataTable) return;\n",
              "\n",
              "          const docLinkHtml = 'Like what you see? Visit the ' +\n",
              "            '<a target=\"_blank\" href=https://colab.research.google.com/notebooks/data_table.ipynb>data table notebook</a>'\n",
              "            + ' to learn more about interactive tables.';\n",
              "          element.innerHTML = '';\n",
              "          dataTable['output_type'] = 'display_data';\n",
              "          await google.colab.output.renderOutput(dataTable, element);\n",
              "          const docLink = document.createElement('div');\n",
              "          docLink.innerHTML = docLinkHtml;\n",
              "          element.appendChild(docLink);\n",
              "        }\n",
              "      </script>\n",
              "    </div>\n",
              "  </div>\n",
              "  "
            ]
          },
          "metadata": {},
          "execution_count": 32
        }
      ]
    },
    {
      "cell_type": "code",
      "source": [
        "#replace 0 (was 'unlisted') with median price\n",
        "pet_supplies_df.price = pet_supplies_df.price.replace(0, 27.93)\n",
        "pet_supplies_df.price.value_counts()"
      ],
      "metadata": {
        "colab": {
          "base_uri": "https://localhost:8080/"
        },
        "id": "onXAFb4MsC8q",
        "outputId": "7087143a-5d9e-479e-b8c5-6a8ddaf7908a"
      },
      "execution_count": 33,
      "outputs": [
        {
          "output_type": "execute_result",
          "data": {
            "text/plain": [
              "27.93    154\n",
              "22.98     13\n",
              "28.00     10\n",
              "19.94      8\n",
              "27.97      8\n",
              "        ... \n",
              "20.79      1\n",
              "54.02      1\n",
              "31.27      1\n",
              "34.11      1\n",
              "25.79      1\n",
              "Name: price, Length: 706, dtype: int64"
            ]
          },
          "metadata": {},
          "execution_count": 33
        }
      ]
    },
    {
      "cell_type": "code",
      "source": [
        "#check nulls\n",
        "pet_supplies_df.price.isna().sum()"
      ],
      "metadata": {
        "colab": {
          "base_uri": "https://localhost:8080/"
        },
        "id": "1dSRi0O5eVp_",
        "outputId": "bcbf7d9c-dc86-4efd-e488-9763277fa51e"
      },
      "execution_count": 34,
      "outputs": [
        {
          "output_type": "execute_result",
          "data": {
            "text/plain": [
              "0"
            ]
          },
          "metadata": {},
          "execution_count": 34
        }
      ]
    },
    {
      "cell_type": "code",
      "source": [
        "#size\n",
        "pet_supplies_df['size']"
      ],
      "metadata": {
        "colab": {
          "base_uri": "https://localhost:8080/"
        },
        "id": "1DOpHCm83RcB",
        "outputId": "c609b21c-c87d-4ce4-bfd8-e1408dd43b15"
      },
      "execution_count": 35,
      "outputs": [
        {
          "output_type": "execute_result",
          "data": {
            "text/plain": [
              "0        large\n",
              "1       MEDIUM\n",
              "2       medium\n",
              "3        small\n",
              "4        Small\n",
              "         ...  \n",
              "1495    medium\n",
              "1496     small\n",
              "1497     Small\n",
              "1498     small\n",
              "1499    Medium\n",
              "Name: size, Length: 1500, dtype: string"
            ]
          },
          "metadata": {},
          "execution_count": 35
        }
      ]
    },
    {
      "cell_type": "code",
      "source": [
        "pet_supplies_df['size'] = pet_supplies_df['size'].astype(str)"
      ],
      "metadata": {
        "id": "kXfiZGv5ii64"
      },
      "execution_count": 36,
      "outputs": []
    },
    {
      "cell_type": "code",
      "source": [
        "pet_supplies_df['size'].dtype"
      ],
      "metadata": {
        "colab": {
          "base_uri": "https://localhost:8080/"
        },
        "id": "hV2Jxwvsin1a",
        "outputId": "6cb7026b-e41b-4062-ae64-2ae35d68b315"
      },
      "execution_count": 37,
      "outputs": [
        {
          "output_type": "execute_result",
          "data": {
            "text/plain": [
              "dtype('O')"
            ]
          },
          "metadata": {},
          "execution_count": 37
        }
      ]
    },
    {
      "cell_type": "code",
      "source": [
        "#count values - before case conversion\n",
        "pet_supplies_df['size'].value_counts()"
      ],
      "metadata": {
        "colab": {
          "base_uri": "https://localhost:8080/"
        },
        "id": "vriAnS7O1Jmb",
        "outputId": "65082ea7-48e0-494d-a070-152596c327c2"
      },
      "execution_count": 38,
      "outputs": [
        {
          "output_type": "execute_result",
          "data": {
            "text/plain": [
              "small     372\n",
              "medium    233\n",
              "Small     225\n",
              "SMALL     157\n",
              "Medium    150\n",
              "large     122\n",
              "MEDIUM    109\n",
              "Large      75\n",
              "LARGE      57\n",
              "Name: size, dtype: int64"
            ]
          },
          "metadata": {},
          "execution_count": 38
        }
      ]
    },
    {
      "cell_type": "code",
      "source": [
        "pet_supplies_df['size'] = pet_supplies_df['size'].str.title() \n",
        "pet_supplies_df['size'].unique()"
      ],
      "metadata": {
        "colab": {
          "base_uri": "https://localhost:8080/"
        },
        "id": "c1fNKVzL1pxb",
        "outputId": "62af6773-152e-427e-c926-7ca58b99fe42"
      },
      "execution_count": 39,
      "outputs": [
        {
          "output_type": "execute_result",
          "data": {
            "text/plain": [
              "array(['Large', 'Medium', 'Small'], dtype=object)"
            ]
          },
          "metadata": {},
          "execution_count": 39
        }
      ]
    },
    {
      "cell_type": "code",
      "source": [
        "#count values -after case conversion\n",
        "\n",
        "pet_supplies_df['size'].value_counts()"
      ],
      "metadata": {
        "colab": {
          "base_uri": "https://localhost:8080/"
        },
        "id": "DE_E-m1dfgWJ",
        "outputId": "fd9442b8-4ec9-46e6-ab6e-048883b0ae6a"
      },
      "execution_count": 40,
      "outputs": [
        {
          "output_type": "execute_result",
          "data": {
            "text/plain": [
              "Small     754\n",
              "Medium    492\n",
              "Large     254\n",
              "Name: size, dtype: int64"
            ]
          },
          "metadata": {},
          "execution_count": 40
        }
      ]
    },
    {
      "cell_type": "code",
      "source": [
        "#sales"
      ],
      "metadata": {
        "id": "rUwQS438SP70"
      },
      "execution_count": 41,
      "outputs": []
    },
    {
      "cell_type": "code",
      "source": [
        "pet_supplies_df['sales'].isna().sum()"
      ],
      "metadata": {
        "colab": {
          "base_uri": "https://localhost:8080/"
        },
        "id": "NqQKyqkFSP4w",
        "outputId": "d55a277a-c2a8-4fac-ba54-350ee954bd7f"
      },
      "execution_count": 42,
      "outputs": [
        {
          "output_type": "execute_result",
          "data": {
            "text/plain": [
              "0"
            ]
          },
          "metadata": {},
          "execution_count": 42
        }
      ]
    },
    {
      "cell_type": "code",
      "source": [
        "pet_supplies_df['sales'].unique()"
      ],
      "metadata": {
        "colab": {
          "base_uri": "https://localhost:8080/"
        },
        "id": "9L_s3_mwSP1N",
        "outputId": "0b3c28b1-b54b-4150-d0fa-b5cafe7f8d62"
      },
      "execution_count": 43,
      "outputs": [
        {
          "output_type": "execute_result",
          "data": {
            "text/plain": [
              "<FloatingArray>\n",
              "[1860.62,   963.6,   898.3,  982.15,  832.63,  874.58,  875.07, 1074.31,\n",
              "  503.67,  838.88,\n",
              " ...\n",
              " 1427.33,  746.16,  1365.7,  993.08,   535.9, 1478.99, 1203.36, 1099.97,\n",
              "  724.02,  826.08]\n",
              "Length: 1476, dtype: Float64"
            ]
          },
          "metadata": {},
          "execution_count": 43
        }
      ]
    },
    {
      "cell_type": "code",
      "source": [
        "pet_supplies_df['sales'].value_counts()"
      ],
      "metadata": {
        "colab": {
          "base_uri": "https://localhost:8080/"
        },
        "id": "lZQkdWIySPxd",
        "outputId": "666403e0-9418-4f6c-b424-763d28f0ca74"
      },
      "execution_count": 44,
      "outputs": [
        {
          "output_type": "execute_result",
          "data": {
            "text/plain": [
              "1034.36    3\n",
              "837.87     2\n",
              "742.87     2\n",
              "1020.3     2\n",
              "1031.79    2\n",
              "          ..\n",
              "713.67     1\n",
              "1427.33    1\n",
              "746.16     1\n",
              "1365.7     1\n",
              "826.08     1\n",
              "Name: sales, Length: 1476, dtype: Int64"
            ]
          },
          "metadata": {},
          "execution_count": 44
        }
      ]
    },
    {
      "cell_type": "code",
      "source": [
        "pet_supplies_df['sales'].median() #median sales"
      ],
      "metadata": {
        "colab": {
          "base_uri": "https://localhost:8080/"
        },
        "id": "BOCw-lb1SPrY",
        "outputId": "4783eb56-517b-4b62-8ef0-786a0df72d33"
      },
      "execution_count": 45,
      "outputs": [
        {
          "output_type": "execute_result",
          "data": {
            "text/plain": [
              "1000.8299999999999"
            ]
          },
          "metadata": {},
          "execution_count": 45
        }
      ]
    },
    {
      "cell_type": "code",
      "source": [
        "#rating\n",
        "pet_supplies_df['rating'].isna().sum()"
      ],
      "metadata": {
        "id": "GlsuW4uqEv6M",
        "colab": {
          "base_uri": "https://localhost:8080/"
        },
        "outputId": "0c385be3-79d8-4ef3-8aa0-d15a304013ef"
      },
      "execution_count": 46,
      "outputs": [
        {
          "output_type": "execute_result",
          "data": {
            "text/plain": [
              "150"
            ]
          },
          "metadata": {},
          "execution_count": 46
        }
      ]
    },
    {
      "cell_type": "code",
      "source": [
        "pet_supplies_df['rating'].value_counts()"
      ],
      "metadata": {
        "colab": {
          "base_uri": "https://localhost:8080/"
        },
        "id": "2kftD62X7If2",
        "outputId": "36c6ca6b-43fd-48c1-83a2-145976807ea0"
      },
      "execution_count": 47,
      "outputs": [
        {
          "output_type": "execute_result",
          "data": {
            "text/plain": [
              "5    304\n",
              "6    299\n",
              "4    283\n",
              "3    190\n",
              "7    143\n",
              "8     61\n",
              "2     43\n",
              "9     15\n",
              "1     12\n",
              "Name: rating, dtype: Int64"
            ]
          },
          "metadata": {},
          "execution_count": 47
        }
      ]
    },
    {
      "cell_type": "code",
      "source": [
        "#fillna with zero\n",
        "pet_supplies_df['rating'] = pet_supplies_df['rating'].fillna(0)\n",
        "pet_supplies_df['rating'].value_counts()"
      ],
      "metadata": {
        "colab": {
          "base_uri": "https://localhost:8080/"
        },
        "id": "HcOXBXyS7Ib8",
        "outputId": "7685ee5d-28fd-4390-bd55-2791138e4e86"
      },
      "execution_count": 48,
      "outputs": [
        {
          "output_type": "execute_result",
          "data": {
            "text/plain": [
              "5    304\n",
              "6    299\n",
              "4    283\n",
              "3    190\n",
              "0    150\n",
              "7    143\n",
              "8     61\n",
              "2     43\n",
              "9     15\n",
              "1     12\n",
              "Name: rating, dtype: Int64"
            ]
          },
          "metadata": {},
          "execution_count": 48
        }
      ]
    },
    {
      "cell_type": "code",
      "source": [
        "#repeat_purchase\n",
        "\n",
        "pet_supplies_df['repeat_purchase'].isna().sum()"
      ],
      "metadata": {
        "colab": {
          "base_uri": "https://localhost:8080/"
        },
        "id": "D6D7_5C07IJr",
        "outputId": "cc26ae48-6990-4d44-ca3e-2e9678e25bb5"
      },
      "execution_count": 49,
      "outputs": [
        {
          "output_type": "execute_result",
          "data": {
            "text/plain": [
              "0"
            ]
          },
          "metadata": {},
          "execution_count": 49
        }
      ]
    },
    {
      "cell_type": "code",
      "source": [
        "pet_supplies_df['repeat_purchase'].unique()"
      ],
      "metadata": {
        "colab": {
          "base_uri": "https://localhost:8080/"
        },
        "id": "V07indVA7H_L",
        "outputId": "7f6520a4-a9e2-4ab3-828f-045c4e1a8cde"
      },
      "execution_count": 50,
      "outputs": [
        {
          "output_type": "execute_result",
          "data": {
            "text/plain": [
              "<IntegerArray>\n",
              "[1, 0]\n",
              "Length: 2, dtype: Int64"
            ]
          },
          "metadata": {},
          "execution_count": 50
        }
      ]
    },
    {
      "cell_type": "code",
      "source": [
        "#repeat purchases using barplot\n",
        "xx = pet_supplies_df['repeat_purchase'].value_counts().reset_index()\n",
        "sns.barplot(x = 'index', y = 'repeat_purchase', data = xx)"
      ],
      "metadata": {
        "colab": {
          "base_uri": "https://localhost:8080/",
          "height": 296
        },
        "id": "HYLXN-4cHOrx",
        "outputId": "f9904fc5-492b-4429-f9b2-7ac9b9a64efe"
      },
      "execution_count": 51,
      "outputs": [
        {
          "output_type": "execute_result",
          "data": {
            "text/plain": [
              "<Axes: xlabel='index', ylabel='repeat_purchase'>"
            ]
          },
          "metadata": {},
          "execution_count": 51
        },
        {
          "output_type": "display_data",
          "data": {
            "text/plain": [
              "<Figure size 432x288 with 1 Axes>"
            ],
            "image/png": "[encoded data removed]"
          },
          "metadata": {
            "needs_background": "light"
          }
        }
      ]
    },
    {
      "cell_type": "markdown",
      "source": [
        "#### Data Validation\n",
        "\n",
        "For every column in the data:\n",
        "* a. State whether the values match the description given in the table\n",
        "* b. State the number of missing values in the column\n",
        "* c. Describe what you did to make the values match the description if they did not match.\n",
        "\n",
        "\n",
        "There are 1500 rows with 8 columns in the data with no duplicates found, the values match the descriptions while the data types were changed as follows: \n",
        "\n",
        "product_id - unchanged\n",
        "\n",
        "category: changed from object to string\n",
        "\n",
        "animal: changed from object to string\n",
        "\n",
        "size: changed from object to string\n",
        "\n",
        "price: changed from object to float\n",
        "\n",
        "sales: unchanged\n",
        "\n",
        "rating and repeat_purchase: changed to int64. \n",
        "\n",
        "Only the rating column contained 150 nulls (missing values), which is 10% of the total records. The null (missing) values in the rating column were replaced with zero as instructed in the brief. The category column had 25 values stored as '-', which was replaced with 'unknown' as instructed; the price column had 150 records stored as unlisted, this was changed to 0.0, converted to float and later imputed with the median price as instructed in the brief; the size column had values stored as a title, lower and upper case instead of sentence case as given in the table, this was converted to a title case for the sizes.\n",
        "\n",
        "\n"
      ],
      "metadata": {
        "id": "lr-OQ8pRM5r0"
      }
    },
    {
      "cell_type": "markdown",
      "source": [
        "#### Data Discovery and Visualization\n",
        "Describe what you found in the analysis and how the visualizations answer the customer questions in the task. In your description you should:\n",
        "\n",
        "* Include at least two different data visualizations to demonstrate the characteristics of single variables\n",
        "* Include at least one data visualization to demonstrate the relationship between two or more variables\n",
        "* Describe how your analysis has answered the business questions \n",
        "\n",
        "\n",
        "#### Question 2."
      ],
      "metadata": {
        "id": "1n7d9eSf9-cw"
      }
    },
    {
      "cell_type": "code",
      "source": [
        "#Set plot size\n",
        "plt.rcParams['figure.figsize'] = [12, 8]"
      ],
      "metadata": {
        "id": "C163KHEJD-qS"
      },
      "execution_count": 52,
      "outputs": []
    },
    {
      "cell_type": "code",
      "source": [
        "#2 #how many products are repeat purchases i.e. category vs repeat_purchases\n",
        "#plot countplot for repeat_purchase column - use this visuallization to answer\n",
        "\n",
        "#count plot visualizing repeat purchases\n",
        "sns.countplot(y = 'category', hue = 'repeat_purchase', data = pet_supplies_df)\n",
        "plt.title('Count of Category per repeat and non- repeat purchases')\n",
        "plt.show();\n",
        "\n",
        "# a. State which category of the variable repeat purchases has the most observations\n",
        "# Answer: Equipment has the most observations of all product categories\n",
        "\n",
        "# b. Explain whether the observations are balanced across categories of the variable repeat purchases\n",
        "# The observations are not balanced across categories of repeat purchases since the number of repeat purchases (906) exceeds that of non-repeat\n",
        "# purchases (594).\n"
      ],
      "metadata": {
        "colab": {
          "base_uri": "https://localhost:8080/",
          "height": 513
        },
        "id": "3cyZEbuyCPzT",
        "outputId": "97db904d-24c8-4364-c5f7-ac8ff73e972f"
      },
      "execution_count": 53,
      "outputs": [
        {
          "output_type": "display_data",
          "data": {
            "text/plain": [
              "<Figure size 864x576 with 1 Axes>"
            ],
            "image/png": "[encoded data removed]"
          },
          "metadata": {
            "needs_background": "light"
          }
        }
      ]
    },
    {
      "cell_type": "code",
      "source": [
        "#boxplot showing overall count per category\n",
        "\n",
        "sns.boxplot(x = pet_supplies_df.index, y= pet_supplies_df['category'], width = 0.3, orient = \"h\");\n",
        "plt.show()\n",
        "\n",
        "\n",
        "# a. State which category of the variable repeat purchases has the most observations\n",
        "# Answer: Judging by the combined count of repeat purchase column for each category, Medicine and Accessory have the most observations of all product categories followed by Equipment.\n",
        "\n",
        "# b. Explain whether the observations are balanced across categories of the variable repeat purchases\n",
        "# The observations are not balanced across categories since the size and shape of the boxes and whiskers length for each category are not the same. Also, the number of observations for each category differs."
      ],
      "metadata": {
        "colab": {
          "base_uri": "https://localhost:8080/",
          "height": 483
        },
        "id": "g8mIAbP-ZQM7",
        "outputId": "286a2e14-5e30-41d1-a0c4-06a8b129f423"
      },
      "execution_count": 54,
      "outputs": [
        {
          "output_type": "display_data",
          "data": {
            "text/plain": [
              "<Figure size 864x576 with 1 Axes>"
            ],
            "image/png": "[encoded data removed]"
          },
          "metadata": {
            "needs_background": "light"
          }
        }
      ]
    },
    {
      "cell_type": "code",
      "source": [
        "pet_supplies_df['category'].value_counts()"
      ],
      "metadata": {
        "colab": {
          "base_uri": "https://localhost:8080/"
        },
        "id": "SClIJzDMcnf9",
        "outputId": "1ecad341-d2a4-4fb9-e8d5-644b34bfbf84"
      },
      "execution_count": 55,
      "outputs": [
        {
          "output_type": "execute_result",
          "data": {
            "text/plain": [
              "Equipment    370\n",
              "Food         260\n",
              "Toys         255\n",
              "Medicine     237\n",
              "Housing      227\n",
              "Accessory    126\n",
              "Unknown       25\n",
              "Name: category, dtype: Int64"
            ]
          },
          "metadata": {},
          "execution_count": 55
        }
      ]
    },
    {
      "cell_type": "code",
      "source": [
        "# 906 products are repeat purchases\n",
        "pet_supplies_df['repeat_purchase'].value_counts()"
      ],
      "metadata": {
        "colab": {
          "base_uri": "https://localhost:8080/"
        },
        "id": "qbpUPCdREjyP",
        "outputId": "3ebd9fce-38c8-45d8-d617-fbe441aada21"
      },
      "execution_count": 56,
      "outputs": [
        {
          "output_type": "execute_result",
          "data": {
            "text/plain": [
              "1    906\n",
              "0    594\n",
              "Name: repeat_purchase, dtype: Int64"
            ]
          },
          "metadata": {},
          "execution_count": 56
        }
      ]
    },
    {
      "cell_type": "code",
      "source": [
        "# 3. Describe the distribution of all of the sales. You must include a visualization that shows the distribution.\n",
        "#use a histogram --- skewed distribution\n",
        "\n",
        "x = pet_supplies_df['sales']\n",
        "plt.hist(x, bins = 'auto')\n",
        "plt.xlabel('Sales Distribution')\n",
        "#plt.ylabel('Probability')"
      ],
      "metadata": {
        "id": "XgAFIg6N-DLj",
        "colab": {
          "base_uri": "https://localhost:8080/",
          "height": 514
        },
        "outputId": "a7b3267d-fa8d-475e-e576-b3959498c5ee"
      },
      "execution_count": 57,
      "outputs": [
        {
          "output_type": "execute_result",
          "data": {
            "text/plain": [
              "Text(0.5, 0, 'Sales Distribution')"
            ]
          },
          "metadata": {},
          "execution_count": 57
        },
        {
          "output_type": "display_data",
          "data": {
            "text/plain": [
              "<Figure size 864x576 with 1 Axes>"
            ],
            "image/png": "[encoded data removed]"
          },
          "metadata": {
            "needs_background": "light"
          }
        }
      ]
    },
    {
      "cell_type": "code",
      "source": [
        "pet_supplies_df['sales'].median()"
      ],
      "metadata": {
        "colab": {
          "base_uri": "https://localhost:8080/"
        },
        "id": "qe2juRlEm8Dl",
        "outputId": "2d5f8017-3947-4ca8-c38f-36355a36148c"
      },
      "execution_count": 58,
      "outputs": [
        {
          "output_type": "execute_result",
          "data": {
            "text/plain": [
              "1000.8299999999999"
            ]
          },
          "metadata": {},
          "execution_count": 58
        }
      ]
    },
    {
      "cell_type": "code",
      "source": [
        "# 3. Describe the distribution of all of the sales. You must include a visualization that shows the distribution.\n",
        "#using boxplot\n",
        "\n",
        "pet_supplies_df.boxplot(column = 'sales', vert = False, figsize= (8,6));"
      ],
      "metadata": {
        "colab": {
          "base_uri": "https://localhost:8080/",
          "height": 374
        },
        "id": "Rm9nLaxC4XL9",
        "outputId": "fe5566b8-f499-4019-ee90-41814ae04465"
      },
      "execution_count": 59,
      "outputs": [
        {
          "output_type": "display_data",
          "data": {
            "text/plain": [
              "<Figure size 576x432 with 1 Axes>"
            ],
            "image/png": "[encoded data removed]"
          },
          "metadata": {
            "needs_background": "light"
          }
        }
      ]
    },
    {
      "cell_type": "markdown",
      "source": [
        "The box plot shows that the median sales is 1000 and 50% of the data is between 750 and 1125. "
      ],
      "metadata": {
        "id": "0W-AMlQ45PVx"
      }
    },
    {
      "cell_type": "code",
      "source": [
        "pet_supplies_df.hist(column = 'sales')"
      ],
      "metadata": {
        "colab": {
          "base_uri": "https://localhost:8080/",
          "height": 516
        },
        "id": "x1mgcLpxMqw_",
        "outputId": "06d7cfea-678e-4eeb-df6e-9606d39804f8"
      },
      "execution_count": 60,
      "outputs": [
        {
          "output_type": "execute_result",
          "data": {
            "text/plain": [
              "array([[<Axes: title={'center': 'sales'}>]], dtype=object)"
            ]
          },
          "metadata": {},
          "execution_count": 60
        },
        {
          "output_type": "display_data",
          "data": {
            "text/plain": [
              "<Figure size 864x576 with 1 Axes>"
            ],
            "image/png": "[encoded data removed]"
          },
          "metadata": {
            "needs_background": "light"
          }
        }
      ]
    },
    {
      "cell_type": "code",
      "source": [
        "# 4. Describe the relationship between repeat purchases and sales. You must include a visualization to demonstrate the relationship\n",
        "\n",
        "#boxplot showing relationship between sales and repeat_purchase\n",
        "sns.boxplot(y = pet_supplies_df['repeat_purchase'], x = pet_supplies_df['sales'], width = 0.3, orient = \"h\");\n",
        "plt.show()"
      ],
      "metadata": {
        "colab": {
          "base_uri": "https://localhost:8080/",
          "height": 497
        },
        "id": "gVLi5AI7R6Ef",
        "outputId": "b67f5822-ab7a-4dfb-c113-07f20b235190"
      },
      "execution_count": 61,
      "outputs": [
        {
          "output_type": "display_data",
          "data": {
            "text/plain": [
              "<Figure size 864x576 with 1 Axes>"
            ],
            "image/png": "[encoded data removed]"
          },
          "metadata": {
            "needs_background": "light"
          }
        }
      ]
    },
    {
      "cell_type": "markdown",
      "source": [
        "Comparing the range and distribution of the repeat_purchase and sales. It is observed that there is a greater variability for non-repeat purchases (0) as well as larger outliers than there is for repeat purchases (1). Also, the medians are not so far apart but the boxplot somewhat overlap."
      ],
      "metadata": {
        "id": "tRr6yyXAAZFm"
      }
    }
  ]
}